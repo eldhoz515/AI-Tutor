{
 "cells": [
  {
   "cell_type": "code",
   "execution_count": 14,
   "metadata": {},
   "outputs": [],
   "source": [
    "import boto3\n",
    "import os\n",
    "import json\n",
    "\n",
    "if not os.environ.get(\"prod\"):\n",
    "    session = boto3.Session(profile_name=\"stryvia\")\n",
    "    s3Client = session.client(\"s3\")\n",
    "    from dotenv import load_dotenv\n",
    "    load_dotenv()\n",
    "else:\n",
    "    s3Client = boto3.client(\"s3\")\n",
    "\n",
    "\n",
    "def saveToS3(body, path):\n",
    "    response = s3Client.put_object(\n",
    "        Body=body,\n",
    "        Bucket=\"ai-tutor-s3\",\n",
    "        Key=path,\n",
    "    )\n",
    "\n",
    "\n",
    "def getFromS3(path):\n",
    "    bucket = \"ai-tutor-s3\"\n",
    "    response = s3Client.get_object(Bucket=bucket, Key=path)\n",
    "    return response[\"Body\"]\n"
   ]
  },
  {
   "cell_type": "code",
   "execution_count": 15,
   "metadata": {},
   "outputs": [],
   "source": [
    "from openai import OpenAI\n",
    "import threading, jsonlines, io\n",
    "\n",
    "client = OpenAI(\n",
    "    api_key=os.environ.get(\"openAIKey\"),\n",
    ")"
   ]
  },
  {
   "cell_type": "code",
   "execution_count": 16,
   "metadata": {},
   "outputs": [],
   "source": [
    "expressions=dict()\n",
    "threads=[]"
   ]
  },
  {
   "cell_type": "code",
   "execution_count": 17,
   "metadata": {},
   "outputs": [],
   "source": [
    "def convert_sentence(i,sentence):\n",
    "    response = client.chat.completions.create(\n",
    "    messages=[\n",
    "        {\n",
    "            \"role\":\"system\",\n",
    "            \"content\":\"Convert given sentence to simple expression\"\n",
    "        },\n",
    "        {\n",
    "            \"role\": \"user\",\n",
    "            \"content\": sentence,\n",
    "        }\n",
    "    ],\n",
    "    model=os.environ.get(\"phase2Model\"),\n",
    "    )\n",
    "    expressions[f\"{i}\"]=str(response.choices[0].message.content)"
   ]
  },
  {
   "cell_type": "code",
   "execution_count": 18,
   "metadata": {},
   "outputs": [],
   "source": [
    "def get_expressions(sentences):\n",
    "    for i,sentence in enumerate(sentences):\n",
    "        t=threading.Thread(target=convert_sentence,args=(i,sentence,))\n",
    "        threads.append(t)\n",
    "        t.start()\n",
    "    for i,t in enumerate(threads):\n",
    "        print(f\"Converting sentence {i+1}/{len(threads)}\")\n",
    "        t.join()\n",
    "    output=[]\n",
    "    for i in range(len(sentences)):\n",
    "        output.append(expressions[f\"{i}\"])\n",
    "    return output\n",
    "    "
   ]
  },
  {
   "cell_type": "code",
   "execution_count": 19,
   "metadata": {},
   "outputs": [],
   "source": [
    "def getSentences(key):\n",
    "    sentences=[]\n",
    "    buffer=getFromS3(f\"speech_marks/{key}.jsonl\")\n",
    "    with io.BytesIO(buffer.read()) as file:\n",
    "        with jsonlines.Reader(file) as data:\n",
    "            for obj in data:\n",
    "                if obj['type']=='sentence':\n",
    "                    sentences.append(obj['value'])\n",
    "    return sentences"
   ]
  },
  {
   "cell_type": "code",
   "execution_count": 20,
   "metadata": {},
   "outputs": [],
   "source": [
    "def main(key=os.environ.get(\"key\")):\n",
    "    sentences = getSentences(key)\n",
    "    output = get_expressions(sentences)\n",
    "    saveToS3(json.dumps(output),f\"expressions/{key}.json\")"
   ]
  },
  {
   "cell_type": "code",
   "execution_count": 21,
   "metadata": {},
   "outputs": [],
   "source": [
    "def lambda_handler(event, context):\n",
    "    try:\n",
    "        y = json.loads(event[\"body\"])\n",
    "    except:\n",
    "        y = event\n",
    "    key = y[\"key\"]\n",
    "    main(key)\n",
    "    return {\"statusCode\": 200}"
   ]
  }
 ],
 "metadata": {
  "kernelspec": {
   "display_name": "venv",
   "language": "python",
   "name": "python3"
  },
  "language_info": {
   "codemirror_mode": {
    "name": "ipython",
    "version": 3
   },
   "file_extension": ".py",
   "mimetype": "text/x-python",
   "name": "python",
   "nbconvert_exporter": "python",
   "pygments_lexer": "ipython3",
   "version": "3.8.0"
  }
 },
 "nbformat": 4,
 "nbformat_minor": 2
}
