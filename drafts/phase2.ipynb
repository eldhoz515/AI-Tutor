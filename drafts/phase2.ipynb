{
 "cells": [
  {
   "cell_type": "code",
   "execution_count": 2,
   "metadata": {},
   "outputs": [],
   "source": [
    "from dotenv import load_dotenv\n",
    "from openai import OpenAI\n",
    "import os, threading, jsonlines, json\n",
    "\n",
    "load_dotenv()\n",
    "\n",
    "client = OpenAI(\n",
    "    api_key=os.environ.get(\"openAIKey\"),\n",
    ")"
   ]
  },
  {
   "cell_type": "code",
   "execution_count": 3,
   "metadata": {},
   "outputs": [],
   "source": [
    "expressions=dict()\n",
    "threads=[]"
   ]
  },
  {
   "cell_type": "code",
   "execution_count": 4,
   "metadata": {},
   "outputs": [],
   "source": [
    "def convert_sentence(i,sentence):\n",
    "    response = client.chat.completions.create(\n",
    "    messages=[\n",
    "        {\n",
    "            \"role\":\"system\",\n",
    "            \"content\":\"Convert given sentence to simple expression\"\n",
    "        },\n",
    "        {\n",
    "            \"role\": \"user\",\n",
    "            \"content\": sentence,\n",
    "        }\n",
    "    ],\n",
    "    model=os.environ.get(\"phase2Model\"),\n",
    "    )\n",
    "    expressions[f\"{i}\"]=str(response.choices[0].message.content)"
   ]
  },
  {
   "cell_type": "code",
   "execution_count": 5,
   "metadata": {},
   "outputs": [],
   "source": [
    "def get_expressions(sentences):\n",
    "    for i,sentence in enumerate(sentences):\n",
    "        t=threading.Thread(target=convert_sentence,args=(i,sentence,))\n",
    "        threads.append(t)\n",
    "        t.start()\n",
    "    for t in threads:\n",
    "        t.join()\n",
    "    output=[]\n",
    "    for i in range(len(sentences)):\n",
    "        output.append(expressions[f\"{i}\"])\n",
    "    return output\n",
    "    "
   ]
  },
  {
   "cell_type": "code",
   "execution_count": 8,
   "metadata": {},
   "outputs": [],
   "source": [
    "def getSentences():\n",
    "    sentences=[]\n",
    "    with jsonlines.open(f'../sample_data/{os.environ.get(\"testKey\")}.jsonl') as data:\n",
    "        for obj in data:\n",
    "            if obj['type']=='sentence':\n",
    "                sentences.append(obj['value'])\n",
    "    return sentences"
   ]
  },
  {
   "cell_type": "code",
   "execution_count": 9,
   "metadata": {},
   "outputs": [],
   "source": [
    "sentences = getSentences()\n",
    "with open(f\"../sample_data/{os.environ.get('expressionsKey')}.json\", \"w\") as fp:\n",
    "    json.dump(get_expressions(sentences), fp)"
   ]
  }
 ],
 "metadata": {
  "kernelspec": {
   "display_name": "venv",
   "language": "python",
   "name": "python3"
  },
  "language_info": {
   "codemirror_mode": {
    "name": "ipython",
    "version": 3
   },
   "file_extension": ".py",
   "mimetype": "text/x-python",
   "name": "python",
   "nbconvert_exporter": "python",
   "pygments_lexer": "ipython3",
   "version": "3.8.0"
  }
 },
 "nbformat": 4,
 "nbformat_minor": 2
}
