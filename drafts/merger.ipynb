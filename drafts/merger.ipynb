{
 "cells": [
  {
   "cell_type": "code",
   "execution_count": 4,
   "metadata": {},
   "outputs": [
    {
     "data": {
      "text/plain": [
       "True"
      ]
     },
     "execution_count": 4,
     "metadata": {},
     "output_type": "execute_result"
    }
   ],
   "source": [
    "from moviepy.editor import *\n",
    "import os, subprocess\n",
    "from dotenv import load_dotenv\n",
    "\n",
    "load_dotenv()\n"
   ]
  },
  {
   "cell_type": "code",
   "execution_count": 5,
   "metadata": {},
   "outputs": [],
   "source": [
    "def main(fileName, key=os.environ.get(\"key\")):\n",
    "    fileName = fileName.replace(\" \", \"_\")\n",
    "\n",
    "    path = f\"../renders/{key}\"\n",
    "    files = os.listdir(path)\n",
    "\n",
    "    files.sort(key=lambda a: int(a.split(\".\")[0]))\n",
    "    clips = []\n",
    "\n",
    "    for file in files:\n",
    "        clip = VideoFileClip(f\"{path}/{file}\")\n",
    "        clips.append(clip)\n",
    "    final = concatenate_videoclips(clips)\n",
    "\n",
    "    final.write_videofile(f\"{path}/{fileName}.mp4\")\n",
    "    subprocess.Popen(f'explorer \\\"{os.path.abspath(f\"{path}/{fileName}.mp4\")}\\\"')"
   ]
  }
 ],
 "metadata": {
  "kernelspec": {
   "display_name": "venv",
   "language": "python",
   "name": "python3"
  },
  "language_info": {
   "codemirror_mode": {
    "name": "ipython",
    "version": 3
   },
   "file_extension": ".py",
   "mimetype": "text/x-python",
   "name": "python",
   "nbconvert_exporter": "python",
   "pygments_lexer": "ipython3",
   "version": "3.8.0"
  }
 },
 "nbformat": 4,
 "nbformat_minor": 2
}
