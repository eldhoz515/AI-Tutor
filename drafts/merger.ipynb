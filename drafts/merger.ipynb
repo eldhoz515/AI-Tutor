{
 "cells": [
  {
   "cell_type": "code",
   "execution_count": 11,
   "metadata": {},
   "outputs": [],
   "source": [
    "# Import everything needed to edit video clips\n",
    "from moviepy.editor import *\n",
    "import os\n"
   ]
  },
  {
   "cell_type": "code",
   "execution_count": 13,
   "metadata": {},
   "outputs": [
    {
     "name": "stdout",
     "output_type": "stream",
     "text": [
      "Moviepy - Building video ../remotion/ai_tutor/renders/merged.mp4.\n",
      "MoviePy - Writing audio in mergedTEMP_MPY_wvf_snd.mp3\n"
     ]
    },
    {
     "name": "stderr",
     "output_type": "stream",
     "text": [
      "                                                                      \r"
     ]
    },
    {
     "name": "stdout",
     "output_type": "stream",
     "text": [
      "MoviePy - Done.\n",
      "Moviepy - Writing video ../remotion/ai_tutor/renders/merged.mp4\n",
      "\n"
     ]
    },
    {
     "name": "stderr",
     "output_type": "stream",
     "text": [
      "                                                                \r"
     ]
    },
    {
     "name": "stdout",
     "output_type": "stream",
     "text": [
      "Moviepy - Done !\n",
      "Moviepy - video ready ../remotion/ai_tutor/renders/merged.mp4\n"
     ]
    }
   ],
   "source": [
    "path='../remotion/ai_tutor/renders'\n",
    "files=os.listdir(path)\n",
    "files.sort(key=lambda a:int(a.split('.')[0]))\n",
    "clips=[]\n",
    "for file in files:\n",
    "    clip=VideoFileClip(f'{path}/{file}')\n",
    "    clips.append(clip)\n",
    "final=concatenate_videoclips(clips)\n",
    "final.write_videofile(f'{path}/merged.mp4')"
   ]
  }
 ],
 "metadata": {
  "kernelspec": {
   "display_name": "venv",
   "language": "python",
   "name": "python3"
  },
  "language_info": {
   "codemirror_mode": {
    "name": "ipython",
    "version": 3
   },
   "file_extension": ".py",
   "mimetype": "text/x-python",
   "name": "python",
   "nbconvert_exporter": "python",
   "pygments_lexer": "ipython3",
   "version": "3.8.0"
  }
 },
 "nbformat": 4,
 "nbformat_minor": 2
}
