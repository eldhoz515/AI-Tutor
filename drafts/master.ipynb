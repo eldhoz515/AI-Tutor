{
 "cells": [
  {
   "cell_type": "code",
   "execution_count": 1,
   "metadata": {},
   "outputs": [],
   "source": [
    "import boto3\n",
    "import os\n",
    "import json\n",
    "\n",
    "if not os.environ.get(\"prod\"):\n",
    "    session = boto3.Session(profile_name=\"stryvia\")\n",
    "    s3Client = session.client(\"s3\")\n",
    "    lambdaClient=session.client('lambda')\n",
    "    from dotenv import load_dotenv\n",
    "    load_dotenv()\n",
    "else:\n",
    "    s3Client = boto3.client(\"s3\")\n",
    "    lambdaClient=boto3.client('lambda')\n",
    "\n",
    "\n",
    "def saveToS3(body, path):\n",
    "    response = s3Client.put_object(\n",
    "        Body=body,\n",
    "        Bucket=\"ai-tutor-s3\",\n",
    "        Key=path,\n",
    "    )\n",
    "\n",
    "\n",
    "def getFromS3(path):\n",
    "    bucket = \"ai-tutor-s3\"\n",
    "    response = s3Client.get_object(Bucket=bucket, Key=path)\n",
    "    return response[\"Body\"]\n"
   ]
  },
  {
   "cell_type": "code",
   "execution_count": 2,
   "metadata": {},
   "outputs": [],
   "source": [
    "def saveStatus(status, key, query):\n",
    "    print(status)\n",
    "    saveToS3(\n",
    "        json.dumps(dict(status=status, query=query, renderIds=None)),\n",
    "        f\"status/{key}.json\",\n",
    "    )"
   ]
  },
  {
   "cell_type": "code",
   "execution_count": 3,
   "metadata": {},
   "outputs": [],
   "source": [
    "def invokeSlave(data):\n",
    "    response = lambdaClient.invoke(\n",
    "        FunctionName=\"ai_tutor_slave\",\n",
    "        InvocationType=\"Event\",\n",
    "        LogType=\"None\",\n",
    "        Payload=data,\n",
    "    )"
   ]
  },
  {
   "cell_type": "code",
   "execution_count": 4,
   "metadata": {},
   "outputs": [],
   "source": [
    "def main(query, key=os.environ.get(\"key\")):\n",
    "    print(key)\n",
    "    try:\n",
    "        saveStatus(\"init\", key, query)\n",
    "        invokeSlave(json.dumps(dict(query=query, key=key)))\n",
    "    except:\n",
    "        saveStatus(\"error\", key, query)"
   ]
  },
  {
   "cell_type": "code",
   "execution_count": 5,
   "metadata": {},
   "outputs": [],
   "source": [
    "def lambda_handler(event, context):\n",
    "    try:\n",
    "        y=json.loads(event[\"body\"])\n",
    "    except:\n",
    "        y=event\n",
    "    \n",
    "    query=y[\"query\"]\n",
    "    key=y[\"key\"]\n",
    "    main(query,key)\n",
    "    \n",
    "    return {\n",
    "        'statusCode': 200,\n",
    "    }"
   ]
  }
 ],
 "metadata": {
  "kernelspec": {
   "display_name": "venv",
   "language": "python",
   "name": "python3"
  },
  "language_info": {
   "codemirror_mode": {
    "name": "ipython",
    "version": 3
   },
   "file_extension": ".py",
   "mimetype": "text/x-python",
   "name": "python",
   "nbconvert_exporter": "python",
   "pygments_lexer": "ipython3",
   "version": "3.8.0"
  }
 },
 "nbformat": 4,
 "nbformat_minor": 2
}
