{
 "cells": [
  {
   "cell_type": "code",
   "execution_count": 14,
   "metadata": {},
   "outputs": [],
   "source": [
    "import requests, os, re, threading, jsonlines, json, io, math\n",
    "from dotenv import load_dotenv\n",
    "import boto3\n",
    "\n",
    "session = boto3.Session(profile_name=\"stryvia\")\n",
    "s3Client = session.client(\"s3\")\n",
    "\n",
    "load_dotenv()\n",
    "splitSymbols = [\"=\", \"+\", \"&\", \"->\"]"
   ]
  },
  {
   "cell_type": "code",
   "execution_count": 15,
   "metadata": {},
   "outputs": [],
   "source": [
    "def getAssetUrl(query, isVideo):\n",
    "    return \"https://video.pexels.com\"\n",
    "    if isVideo:\n",
    "        url = f\"https://api.pexels.com/videos/search?query={query}&per_page=1&size=small\"\n",
    "        headers = {\"Authorization\": os.environ.get(\"pexelsKey\")}\n",
    "        try:\n",
    "            response = requests.get(url=url, headers=headers)\n",
    "            data=response.json()\n",
    "            for file in data['videos'][0]['video_files']:\n",
    "                if file['quality']!='sd':\n",
    "                    return file['link']\n",
    "        except Exception as e:\n",
    "            print(e)\n",
    "            return os.environ.get(\"blackVideoUrl\")\n",
    "    else:\n",
    "        url = f\"https://api.pexels.com/v1/search?query={query}&per_page=1&size=large\"\n",
    "        headers = {\"Authorization\": os.environ.get(\"pexelsKey\")}\n",
    "        try:\n",
    "            response = requests.get(url=url, headers=headers)\n",
    "            data=response.json()\n",
    "            return data['photos'][0]['src']['large']\n",
    "        except Exception as e:\n",
    "            print(e)\n",
    "            return os.environ.get(\"blackImageUrl\")"
   ]
  },
  {
   "cell_type": "code",
   "execution_count": 16,
   "metadata": {},
   "outputs": [],
   "source": [
    "def cleanExpression(expression):\n",
    "    return expression.replace('.','')"
   ]
  },
  {
   "cell_type": "code",
   "execution_count": 17,
   "metadata": {},
   "outputs": [],
   "source": [
    "def processExpression(expression):\n",
    "    # try:\n",
    "    format = {}\n",
    "\n",
    "    for symbol in splitSymbols:\n",
    "        if symbol in expression:\n",
    "            format[\"operation\"] = symbol\n",
    "            format[\"content\"] = []\n",
    "            for part in expression.split(symbol):\n",
    "                if len(part):\n",
    "                    format[\"content\"].append(processExpression(part))\n",
    "            return format\n",
    "\n",
    "    if \"\\u201c\" in expression:\n",
    "        format[\"operation\"] = \"verb\"\n",
    "        format[\"content\"] = []\n",
    "        pattern = r\"\\u201c(.*?)\\u201d\"\n",
    "        withoutVerb = re.sub(pattern, \"$$\", expression)\n",
    "        format[\"verb\"] = re.findall(pattern, expression)[0]\n",
    "        for part in withoutVerb.split(\"$$\"):\n",
    "            if len(part):\n",
    "                format[\"content\"].append(processExpression(part))\n",
    "        return format\n",
    "\n",
    "    format[\"operation\"] = \"asset\"\n",
    "    format[\"expression\"] = expression\n",
    "    assetUrl = getAssetUrl(expression, isVideo=True)\n",
    "    if assetUrl == os.environ.get(\"blackVideoUrl\"):\n",
    "        assetUrl = getAssetUrl(expression, isVideo=False)\n",
    "    format[\"assetUrl\"] = assetUrl\n",
    "    return format\n",
    "    # except Exception as e:\n",
    "    print(e)\n",
    "    return {\"operation\": \"oops\", \"expression\": expression}"
   ]
  },
  {
   "cell_type": "code",
   "execution_count": 18,
   "metadata": {},
   "outputs": [],
   "source": [
    "renderIds=dict()\n",
    "threads=[]\n",
    "sampleProps=[]"
   ]
  },
  {
   "cell_type": "code",
   "execution_count": 19,
   "metadata": {},
   "outputs": [],
   "source": [
    "def render(i, props):\n",
    "    return i\n",
    "    response = requests.get(os.environ.get(\"renderUrl\"), data=props)\n",
    "    res = response.json()\n",
    "    return res[\"renderId\"]"
   ]
  },
  {
   "cell_type": "code",
   "execution_count": 20,
   "metadata": {},
   "outputs": [],
   "source": [
    "def worker(i, expression, duration):\n",
    "    print(f\"starting worker {i}\")\n",
    "    print(expression, duration)\n",
    "\n",
    "    props = dict()\n",
    "\n",
    "    props[\"duration\"] = duration\n",
    "\n",
    "    props[\"format\"] = processExpression(cleanExpression(expression))\n",
    "    print(props)\n",
    "    sampleProps.append(dict(expression=expression, props=props))\n",
    "    renderIds[f\"{i}\"] = render(i, props)"
   ]
  },
  {
   "cell_type": "code",
   "execution_count": 21,
   "metadata": {},
   "outputs": [],
   "source": [
    "def getDuration(i,speechMarks):\n",
    "    return (speechMarks[i+1]-speechMarks[i])/1000"
   ]
  },
  {
   "cell_type": "code",
   "execution_count": 22,
   "metadata": {},
   "outputs": [],
   "source": [
    "def getFromS3(speechMarksKey):\n",
    "    bucket = \"ai-tutor-s3\"\n",
    "    response = s3Client.get_object(Bucket=bucket, Key=f\"speech_marks/{speechMarksKey}.jsonl\")\n",
    "    data = []\n",
    "    with io.BytesIO(response[\"Body\"].read()) as file:\n",
    "        with jsonlines.Reader(file) as reader:\n",
    "            for line in reader:\n",
    "                data.append(line)\n",
    "    return data"
   ]
  },
  {
   "cell_type": "code",
   "execution_count": 23,
   "metadata": {},
   "outputs": [],
   "source": [
    "def getSpeechMarks(speechMarksKey):\n",
    "    data = getFromS3(speechMarksKey)\n",
    "    speechMarks = []\n",
    "    for obj in data:\n",
    "        if obj[\"type\"] == \"sentence\":\n",
    "            speechMarks.append(obj[\"time\"])\n",
    "    speechMarks.append(data[-1][\"time\"] + 1000)\n",
    "    return speechMarks"
   ]
  },
  {
   "cell_type": "code",
   "execution_count": 24,
   "metadata": {},
   "outputs": [],
   "source": [
    "def master(sentences, expressions, speechMarksKey):\n",
    "    speechMarks = getSpeechMarks(speechMarksKey)\n",
    "    print(speechMarks)\n",
    "    for i, sentence in enumerate(sentences):\n",
    "        t = threading.Thread(\n",
    "            target=worker,\n",
    "            args=(\n",
    "                i,\n",
    "                expressions[i],\n",
    "                getDuration(i, speechMarks),\n",
    "            ),\n",
    "        )\n",
    "        threads.append(t)\n",
    "        t.start()\n",
    "    for t in threads:\n",
    "        t.join()\n",
    "    output = []\n",
    "    for i in range(len(sentences)):\n",
    "        output.append(renderIds[f\"{i}\"])\n",
    "    print(output)\n",
    "    return output"
   ]
  },
  {
   "cell_type": "code",
   "execution_count": 25,
   "metadata": {},
   "outputs": [],
   "source": [
    "def getSentences():\n",
    "    sentences=[]\n",
    "    with jsonlines.open(f'../sample_data/{os.environ.get(\"testKey\")}.jsonl') as data:\n",
    "        for obj in data:\n",
    "            if obj['type']=='sentence':\n",
    "                sentences.append(obj['value'])\n",
    "    return sentences"
   ]
  },
  {
   "cell_type": "code",
   "execution_count": 26,
   "metadata": {},
   "outputs": [
    {
     "name": "stdout",
     "output_type": "stream",
     "text": [
      "[0, 2569, 8164, 12490, 20445, 25964, 30592, 34766, 40906, 45603, 52812, 58130, 61807, 64856, 72451, 76779, 80046, 86587, 90679, 96715, 100084]\n",
      "starting worker 0\n",
      "Computer=Office. 2.569\n",
      "{'duration': 2.569, 'format': {'operation': '=', 'content': [{'operation': 'asset', 'expression': 'Computer', 'assetUrl': 'https://video.pexels.com'}, {'operation': 'asset', 'expression': 'Office', 'assetUrl': 'https://video.pexels.com'}]}}\n",
      "starting worker 1\n",
      " CPU = office workers. 5.595\n",
      "{'duration': 5.595, 'format': {'operation': '=', 'content': [{'operation': 'asset', 'expression': ' CPU ', 'assetUrl': 'https://video.pexels.com'}, {'operation': 'asset', 'expression': ' office workers', 'assetUrl': 'https://video.pexels.com'}]}}\n",
      "starting worker 2\n",
      " Workers “carry out” instructions. 4.326\n",
      "{'duration': 4.326, 'format': {'operation': 'verb', 'content': [{'operation': 'asset', 'expression': ' Workers ', 'assetUrl': 'https://video.pexels.com'}, {'operation': 'asset', 'expression': ' instructions', 'assetUrl': 'https://video.pexels.com'}], 'verb': 'carry out'}}\n",
      "starting worker 3\n",
      "Cpu “processes” information. 7.955\n",
      "{'duration': 7.955, 'format': {'operation': 'verb', 'content': [{'operation': 'asset', 'expression': 'Cpu ', 'assetUrl': 'https://video.pexels.com'}, {'operation': 'asset', 'expression': ' information', 'assetUrl': 'https://video.pexels.com'}], 'verb': 'processes'}}\n",
      "starting worker 4\n",
      " Memory (RAM) = Worker’s desk space. 5.519\n",
      "{'duration': 5.519, 'format': {'operation': '=', 'content': [{'operation': 'asset', 'expression': ' Memory (RAM) ', 'assetUrl': 'https://video.pexels.com'}, {'operation': 'asset', 'expression': ' Worker’s desk space', 'assetUrl': 'https://video.pexels.com'}]}}\n",
      "starting worker 5\n",
      " CPU “places” data. 4.628\n",
      "{'duration': 4.628, 'format': {'operation': 'verb', 'content': [{'operation': 'asset', 'expression': ' CPU ', 'assetUrl': 'https://video.pexels.com'}, {'operation': 'asset', 'expression': ' data', 'assetUrl': 'https://video.pexels.com'}], 'verb': 'places'}}\n",
      "starting worker 6\n",
      " Space “allows” task handling. 4.174\n",
      "{'duration': 4.174, 'format': {'operation': 'verb', 'content': [{'operation': 'asset', 'expression': ' Space ', 'assetUrl': 'https://video.pexels.com'}, {'operation': 'asset', 'expression': ' task handling', 'assetUrl': 'https://video.pexels.com'}], 'verb': 'allows'}}\n",
      "starting worker 7\n",
      " Storage = filing cabinets. 6.14\n",
      "{'duration': 6.14, 'format': {'operation': '=', 'content': [{'operation': 'asset', 'expression': ' Storage ', 'assetUrl': 'https://video.pexels.com'}, {'operation': 'asset', 'expression': ' filing cabinets', 'assetUrl': 'https://video.pexels.com'}]}}\n",
      "starting worker 8\n",
      " Storage 'stores' data. 4.697\n",
      "{'duration': 4.697, 'format': {'operation': 'asset', 'expression': \" Storage 'stores' data\", 'assetUrl': 'https://video.pexels.com'}}\n",
      "starting worker 9\n",
      " Input devices= ”workers” receiving instructions. 7.209\n",
      "{'duration': 7.209, 'format': {'operation': '=', 'content': [{'operation': 'asset', 'expression': ' Input devices', 'assetUrl': 'https://video.pexels.com'}, {'operation': 'asset', 'expression': ' ”workers” receiving instructions', 'assetUrl': 'https://video.pexels.com'}]}}\n",
      "starting worker 10\n",
      " Output devices = workers results board. 5.318\n",
      "{'duration': 5.318, 'format': {'operation': '=', 'content': [{'operation': 'asset', 'expression': ' Output devices ', 'assetUrl': 'https://video.pexels.com'}, {'operation': 'asset', 'expression': ' workers results board', 'assetUrl': 'https://video.pexels.com'}]}}\n",
      "starting worker 11\n",
      " Operating System = Office Manager. 3.677\n",
      "{'duration': 3.677, 'format': {'operation': '=', 'content': [{'operation': 'asset', 'expression': ' Operating System ', 'assetUrl': 'https://video.pexels.com'}, {'operation': 'asset', 'expression': ' Office Manager', 'assetUrl': 'https://video.pexels.com'}]}}\n",
      "starting worker 12\n",
      " Project manager “coordinates” resources. 3.049\n",
      "{'duration': 3.049, 'format': {'operation': 'verb', 'content': [{'operation': 'asset', 'expression': ' Project manager ', 'assetUrl': 'https://video.pexels.com'}, {'operation': 'asset', 'expression': ' resources', 'assetUrl': 'https://video.pexels.com'}], 'verb': 'coordinates'}}\n",
      "starting worker 13\n",
      "Operating system “manages” ram & “prioritizes” tasks. 7.595\n",
      "{'duration': 7.595, 'format': {'operation': '&', 'content': [{'operation': 'verb', 'content': [{'operation': 'asset', 'expression': 'Operating system ', 'assetUrl': 'https://video.pexels.com'}, {'operation': 'asset', 'expression': ' ram ', 'assetUrl': 'https://video.pexels.com'}], 'verb': 'manages'}, {'operation': 'verb', 'content': [{'operation': 'asset', 'expression': ' ', 'assetUrl': 'https://video.pexels.com'}, {'operation': 'asset', 'expression': ' tasks', 'assetUrl': 'https://video.pexels.com'}], 'verb': 'prioritizes'}]}}\n",
      "starting worker 14\n",
      " Programs & applications = Worker’s projects. 4.328\n",
      "{'duration': 4.328, 'format': {'operation': '=', 'content': [{'operation': '&', 'content': [{'operation': 'asset', 'expression': ' Programs ', 'assetUrl': 'https://video.pexels.com'}, {'operation': 'asset', 'expression': ' applications ', 'assetUrl': 'https://video.pexels.com'}]}, {'operation': 'asset', 'expression': ' Worker’s projects', 'assetUrl': 'https://video.pexels.com'}]}}\n",
      "starting worker 15\n",
      " Program “consists of” instructions. 3.267\n",
      "{'duration': 3.267, 'format': {'operation': 'verb', 'content': [{'operation': 'asset', 'expression': ' Program ', 'assetUrl': 'https://video.pexels.com'}, {'operation': 'asset', 'expression': ' instructions', 'assetUrl': 'https://video.pexels.com'}], 'verb': 'consists of'}}\n",
      "starting worker 16\n",
      "Programs “need” resources. 6.541\n",
      "{'duration': 6.541, 'format': {'operation': 'verb', 'content': [{'operation': 'asset', 'expression': 'Programs ', 'assetUrl': 'https://video.pexels.com'}, {'operation': 'asset', 'expression': ' resources', 'assetUrl': 'https://video.pexels.com'}], 'verb': 'need'}}\n",
      "starting worker 17\n",
      " Bus system = office communication network. 4.092\n",
      "{'duration': 4.092, 'format': {'operation': '=', 'content': [{'operation': 'asset', 'expression': ' Bus system ', 'assetUrl': 'https://video.pexels.com'}, {'operation': 'asset', 'expression': ' office communication network', 'assetUrl': 'https://video.pexels.com'}]}}\n",
      "starting worker 18\n",
      "Bus system “exchanges” data. 6.036\n",
      "{'duration': 6.036, 'format': {'operation': 'verb', 'content': [{'operation': 'asset', 'expression': 'Bus system ', 'assetUrl': 'https://video.pexels.com'}, {'operation': 'asset', 'expression': ' data', 'assetUrl': 'https://video.pexels.com'}], 'verb': 'exchanges'}}\n",
      "starting worker 19\n",
      "Office communication system “facilitates” workflow. 3.369\n",
      "{'duration': 3.369, 'format': {'operation': 'verb', 'content': [{'operation': 'asset', 'expression': 'Office communication system ', 'assetUrl': 'https://video.pexels.com'}, {'operation': 'asset', 'expression': ' workflow', 'assetUrl': 'https://video.pexels.com'}], 'verb': 'facilitates'}}\n",
      "[0, 1, 2, 3, 4, 5, 6, 7, 8, 9, 10, 11, 12, 13, 14, 15, 16, 17, 18, 19]\n"
     ]
    }
   ],
   "source": [
    "sentences = getSentences()\n",
    "with open(f\"../sample_data/{os.environ.get('expressionsKey')}.json\", \"r\") as f:\n",
    "    expressions = json.load(f)\n",
    "\n",
    "master(sentences, expressions, os.environ.get(\"testKey\"))\n",
    "with open(f\"../sample_data/{os.environ.get('propsKey')}.json\", \"w\") as fp:\n",
    "    json.dump(sampleProps, fp)"
   ]
  }
 ],
 "metadata": {
  "kernelspec": {
   "display_name": "venv",
   "language": "python",
   "name": "python3"
  },
  "language_info": {
   "codemirror_mode": {
    "name": "ipython",
    "version": 3
   },
   "file_extension": ".py",
   "mimetype": "text/x-python",
   "name": "python",
   "nbconvert_exporter": "python",
   "pygments_lexer": "ipython3",
   "version": "3.8.0"
  }
 },
 "nbformat": 4,
 "nbformat_minor": 2
}
