{
 "cells": [
  {
   "cell_type": "code",
   "execution_count": 8,
   "metadata": {},
   "outputs": [],
   "source": [
    "import requests, os, re, threading, jsonlines, json, io, math\n",
    "from dotenv import load_dotenv\n",
    "from collections import defaultdict\n",
    "import boto3\n",
    "\n",
    "session = boto3.Session(profile_name=\"stryvia\")\n",
    "s3Client = session.client(\"s3\")\n",
    "\n",
    "load_dotenv()\n",
    "splitSymbols = [\"=\", \"+\", \"&\", \"->\"]"
   ]
  },
  {
   "cell_type": "code",
   "execution_count": 9,
   "metadata": {},
   "outputs": [],
   "source": [
    "renderIds=dict()\n",
    "threads=[]\n",
    "sampleProps=[]"
   ]
  },
  {
   "cell_type": "code",
   "execution_count": 10,
   "metadata": {},
   "outputs": [],
   "source": [
    "def getAssetUrl(query, isVideo):\n",
    "    # return \"https://video.pexels.com\"\n",
    "    if isVideo:\n",
    "        url = f\"https://api.pexels.com/videos/search?query={query}&per_page=1&size=small\"\n",
    "        headers = {\"Authorization\": os.environ.get(\"pexelsKey\")}\n",
    "        try:\n",
    "            response = requests.get(url=url, headers=headers)\n",
    "            data=response.json()\n",
    "            for file in data['videos'][0]['video_files']:\n",
    "                if file['quality']!='sd':\n",
    "                    return file['link']\n",
    "        except Exception as e:\n",
    "            print(e)\n",
    "            return os.environ.get(\"blackVideoUrl\")\n",
    "    else:\n",
    "        url = f\"https://api.pexels.com/v1/search?query={query}&per_page=1&size=large\"\n",
    "        headers = {\"Authorization\": os.environ.get(\"pexelsKey\")}\n",
    "        try:\n",
    "            response = requests.get(url=url, headers=headers)\n",
    "            data=response.json()\n",
    "            return data['photos'][0]['src']['large']\n",
    "        except Exception as e:\n",
    "            print(e)\n",
    "            return os.environ.get(\"blackImageUrl\")"
   ]
  },
  {
   "cell_type": "code",
   "execution_count": 11,
   "metadata": {},
   "outputs": [],
   "source": [
    "def getGoogleImage(query):\n",
    "    try:\n",
    "        response=requests.post(os.environ.get(\"imageScraper\"),json=dict(query=query))\n",
    "        return response.json()\n",
    "    except Exception as e:\n",
    "        print(e)\n",
    "        return os.environ.get(\"blackImageUrl\")\n"
   ]
  },
  {
   "cell_type": "code",
   "execution_count": 12,
   "metadata": {},
   "outputs": [],
   "source": [
    "def cleanExpression(expression):\n",
    "    return expression.replace('.','')"
   ]
  },
  {
   "cell_type": "code",
   "execution_count": 13,
   "metadata": {},
   "outputs": [],
   "source": [
    "def processExpression(i,expression):\n",
    "    # try:\n",
    "    format = {}\n",
    "\n",
    "    for symbol in splitSymbols:\n",
    "        if symbol in expression:\n",
    "            format[\"operation\"] = symbol\n",
    "            format[\"content\"] = []\n",
    "            for part in expression.split(symbol):\n",
    "                if len(part):\n",
    "                    format[\"content\"].append(processExpression(i,part))\n",
    "            return format\n",
    "\n",
    "    if \"\\u201c\" in expression:\n",
    "        format[\"operation\"] = \"verb\"\n",
    "        format[\"content\"] = []\n",
    "        pattern = r\"\\u201c(.*?)\\u201d\"\n",
    "        withoutVerb = re.sub(pattern, \"$$\", expression)\n",
    "        format[\"verb\"] = re.findall(pattern, expression)[0]\n",
    "        for part in withoutVerb.split(\"$$\"):\n",
    "            if len(part):\n",
    "                format[\"content\"].append(processExpression(i,part))\n",
    "        return format\n",
    "\n",
    "    query = expression.strip()\n",
    "    if not len(query):\n",
    "        format[\"operation\"]=\"void\"\n",
    "        return format\n",
    "    format[\"operation\"] = \"asset\"\n",
    "    format[\"expression\"] = query\n",
    "    assetUrl = getAssetUrl(query, isVideo=True)\n",
    "    format[\"assetType\"] = \"video\"\n",
    "    if assetUrl == os.environ.get(\"blackVideoUrl\"):\n",
    "        assetUrl = getAssetUrl(query, isVideo=False)\n",
    "        format[\"assetType\"] = \"image\"\n",
    "    format[\"assetUrl\"] = assetUrl\n",
    "    format[\"googleImage\"]=getGoogleImage(query)\n",
    "    return format\n",
    "    # except Exception as e:\n",
    "    print(e)\n",
    "    return {\"operation\": \"oops\", \"expression\": expression}"
   ]
  },
  {
   "cell_type": "code",
   "execution_count": 14,
   "metadata": {},
   "outputs": [],
   "source": [
    "def render(i, props):\n",
    "    return i\n",
    "    response = requests.get(os.environ.get(\"renderUrl\"), data=props)\n",
    "    res = response.json()\n",
    "    return res[\"renderId\"]"
   ]
  },
  {
   "cell_type": "code",
   "execution_count": 15,
   "metadata": {},
   "outputs": [],
   "source": [
    "def worker(i, expression, duration):\n",
    "    print(f\"starting worker {i}\")\n",
    "    print(expression, duration)\n",
    "\n",
    "    props = dict()\n",
    "\n",
    "    props[\"duration\"] = duration\n",
    "\n",
    "    props[\"format\"] = processExpression(i,cleanExpression(expression))\n",
    "    print(props)\n",
    "    sampleProps.append(dict(expression=expression, props=props))\n",
    "    renderIds[f\"{i}\"] = render(i, props)"
   ]
  },
  {
   "cell_type": "code",
   "execution_count": 16,
   "metadata": {},
   "outputs": [],
   "source": [
    "def getDuration(i,speechMarks):\n",
    "    return (speechMarks[i+1]-speechMarks[i])/1000"
   ]
  },
  {
   "cell_type": "code",
   "execution_count": 17,
   "metadata": {},
   "outputs": [],
   "source": [
    "def getFromS3(speechMarksKey):\n",
    "    bucket = \"ai-tutor-s3\"\n",
    "    response = s3Client.get_object(Bucket=bucket, Key=f\"speech_marks/{speechMarksKey}.jsonl\")\n",
    "    data = []\n",
    "    with io.BytesIO(response[\"Body\"].read()) as file:\n",
    "        with jsonlines.Reader(file) as reader:\n",
    "            for line in reader:\n",
    "                data.append(line)\n",
    "    return data"
   ]
  },
  {
   "cell_type": "code",
   "execution_count": 18,
   "metadata": {},
   "outputs": [],
   "source": [
    "def getSpeechMarks(speechMarksKey):\n",
    "    data = getFromS3(speechMarksKey)\n",
    "    speechMarks = []\n",
    "    for obj in data:\n",
    "        if obj[\"type\"] == \"sentence\":\n",
    "            speechMarks.append(obj[\"time\"])\n",
    "    speechMarks.append(data[-1][\"time\"] + 1000)\n",
    "    return speechMarks"
   ]
  },
  {
   "cell_type": "code",
   "execution_count": 19,
   "metadata": {},
   "outputs": [],
   "source": [
    "def master(sentences, expressions, speechMarksKey):\n",
    "    speechMarks = getSpeechMarks(speechMarksKey)\n",
    "    print(speechMarks)\n",
    "    for i, sentence in enumerate(sentences):\n",
    "        t = threading.Thread(\n",
    "            target=worker,\n",
    "            args=(\n",
    "                i,\n",
    "                expressions[i],\n",
    "                getDuration(i, speechMarks),\n",
    "            ),\n",
    "        )\n",
    "        threads.append(t)\n",
    "        t.start()\n",
    "    for t in threads:\n",
    "        t.join()\n",
    "    output = []\n",
    "    for i in range(len(sentences)):\n",
    "        output.append(renderIds[f\"{i}\"])\n",
    "    print(output)\n",
    "    return output"
   ]
  },
  {
   "cell_type": "code",
   "execution_count": 20,
   "metadata": {},
   "outputs": [],
   "source": [
    "def getSentences():\n",
    "    sentences=[]\n",
    "    with jsonlines.open(f'../sample_data/{os.environ.get(\"testKey\")}.jsonl') as data:\n",
    "        for obj in data:\n",
    "            if obj['type']=='sentence':\n",
    "                sentences.append(obj['value'])\n",
    "    return sentences"
   ]
  },
  {
   "cell_type": "code",
   "execution_count": 21,
   "metadata": {},
   "outputs": [
    {
     "name": "stdout",
     "output_type": "stream",
     "text": [
      "[0, 2569, 8164, 12490, 20445, 25964, 30592, 34766, 40906, 45603, 52812, 58130, 61807, 64856, 72451, 76779, 80046, 86587, 90679, 96715, 100084]\n",
      "starting worker 0\n",
      "Computer=Office. 2.569\n",
      "starting worker 1\n",
      " CPU = office workers. 5.595\n",
      "starting worker 2\n",
      " Workers “carry out” instructions. 4.326\n",
      "starting worker 3\n",
      "Cpu “processes” information. 7.955\n",
      "starting worker 4\n",
      " Memory (RAM) = Worker’s desk space. 5.519\n",
      "starting worker 5\n",
      " CPU “places” data. 4.628\n",
      "starting worker 6\n",
      " Space “allows” task handling. 4.174\n",
      "starting worker 7\n",
      " Storage = filing cabinets. 6.14\n",
      "starting worker 8\n",
      " Storage 'stores' data. 4.697\n",
      "starting worker 9\n",
      " Input devices= ”workers” receiving instructions. 7.209\n",
      "starting worker 10\n",
      " Output devices = workers results board. 5.318\n",
      "starting worker 11\n",
      " Operating System = Office Manager. 3.677\n",
      "starting worker 12\n",
      " Project manager “coordinates” resources. 3.049\n",
      "starting worker 13\n",
      "Operating system “manages” ram & “prioritizes” tasks. 7.595\n",
      "starting worker 14\n",
      " Programs & applications = Worker’s projects. 4.328\n",
      "starting worker 15\n",
      " Program “consists of” instructions. 3.267\n",
      "starting worker 16\n",
      "Programs “need” resources. 6.541\n",
      "starting worker 17\n",
      " Bus system = office communication network. 4.092\n",
      "starting worker 18\n",
      "Bus system “exchanges” data. 6.036\n",
      "starting worker 19\n",
      "Office communication system “facilitates” workflow. 3.369\n",
      "list index out of range\n",
      "{'duration': 4.697, 'format': {'operation': 'asset', 'expression': \"Storage 'stores' data\", 'assetType': 'video', 'assetUrl': 'https://player.vimeo.com/external/414210691.hd.mp4?s=2e57a44df2abe7e056adb1bd3665c1ae9dca34dc&profile_id=170&oauth2_token_id=57447761', 'googleImage': 'https://www.ibm.com/content/dam/connectedassets-adobe-cms/worldwide-content/cdp/cf/ul/g/3c/69/Isometric_what_is_data_storage_3038x1280.component.xl.ts=1699631262637.jpg/content/adobe-cms/us/en/topics/data-storage/_jcr_content/root/leadspace'}}\n",
      "list index out of range\n",
      "{'duration': 6.541, 'format': {'operation': 'verb', 'content': [{'operation': 'asset', 'expression': 'Programs', 'assetType': 'video', 'assetUrl': 'https://player.vimeo.com/external/357563488.hd.mp4?s=42dbf432200b04ea74f2cbab4c9d455656dea0ff&profile_id=175&oauth2_token_id=57447761', 'googleImage': 'https://cdn.educba.com/academy/wp-content/uploads/2020/09/What-is-Program.jpg'}, {'operation': 'asset', 'expression': 'resources', 'assetType': 'video', 'assetUrl': 'https://player.vimeo.com/external/367272285.hd.mp4?s=f02b4aa5ef646a329b797f9c277b4d0331336bfc&profile_id=174&oauth2_token_id=57447761', 'googleImage': 'https://1.bp.blogspot.com/-w4itUeRRKQ0/YSPfbA_qwLI/AAAAAAAAOus/T5X5ulNlAt4HjHSn020mG_IRGrCubNf8ACLcBGAsYHQ/w0/cea5fe7ce8dac051e04b9e45356e4c9c.jpg'}], 'verb': 'need'}}\n",
      "{'duration': 2.569, 'format': {'operation': '=', 'content': [{'operation': 'asset', 'expression': 'Computer', 'assetType': 'video', 'assetUrl': 'https://player.vimeo.com/external/353534763.hd.mp4?s=3f9b19c9f52f1ab3bde7ee01e65451611152154d&profile_id=172&oauth2_token_id=57447761', 'googleImage': 'https://cdn.britannica.com/77/170477-050-1C747EE3/Laptop-computer.jpg'}, {'operation': 'asset', 'expression': 'Office', 'assetType': 'video', 'assetUrl': 'https://player.vimeo.com/external/174003112.hd.mp4?s=9c380d7ef6367969ca048d065a53adc1e105c9d9&profile_id=174&oauth2_token_id=57447761', 'googleImage': 'https://5.imimg.com/data5/SELLER/Default/2021/9/OW/NW/XF/17251528/office-interior-designing-service.jpg'}]}}\n",
      "{'duration': 4.628, 'format': {'operation': 'verb', 'content': [{'operation': 'asset', 'expression': 'CPU', 'assetType': 'video', 'assetUrl': 'https://player.vimeo.com/external/199432825.hd.mp4?s=c2a13de8faf1942afaaaa6070bb0743a845bfc0d&profile_id=119&oauth2_token_id=57447761', 'googleImage': 'https://4.imimg.com/data4/YD/WW/MY-31969445/brand-new-cpu-sealed-pack.jpg'}, {'operation': 'asset', 'expression': 'data', 'assetType': 'video', 'assetUrl': 'https://player.vimeo.com/external/368789132.hd.mp4?s=33600fce2f968c7b3778ec3439df7d655a6f7585&profile_id=172&oauth2_token_id=57447761', 'googleImage': 'https://upload.wikimedia.org/wikipedia/commons/6/6d/Data_types_-_en.svg'}], 'verb': 'places'}}\n",
      "{'duration': 7.209, 'format': {'operation': '=', 'content': [{'operation': 'asset', 'expression': 'Input devices', 'assetType': 'video', 'assetUrl': 'https://player.vimeo.com/external/446748408.hd.mp4?s=239dd3022786a5708496b57170b8b766d81adc34&profile_id=175&oauth2_token_id=57447761', 'googleImage': 'https://st.adda247.com/https://www.careerpower.in/blog/wp-content/uploads/sites/2/2023/07/16233026/Input-devices.png'}, {'operation': 'asset', 'expression': '”workers” receiving instructions', 'assetType': 'video', 'assetUrl': 'https://player.vimeo.com/external/408408114.hd.mp4?s=031ad3db0e28927445db79c87808039d2c8607f1&profile_id=172&oauth2_token_id=57447761', 'googleImage': 'https://en.pimg.jp/007/864/656/1/7864656.jpg'}]}}\n",
      "{'duration': 4.092, 'format': {'operation': '=', 'content': [{'operation': 'asset', 'expression': 'Bus system', 'assetType': 'video', 'assetUrl': 'https://player.vimeo.com/external/365677713.hd.mp4?s=f8c8feae961181d347ac3321fa2c468f801efea7&profile_id=170&oauth2_token_id=57447761', 'googleImage': 'https://upload.wikimedia.org/wikipedia/commons/6/68/Computer_system_bus.svg'}, {'operation': 'asset', 'expression': 'office communication network', 'assetType': 'video', 'assetUrl': 'https://player.vimeo.com/external/423126565.hd.mp4?s=42a3f51c4ec9b081e742df84f9b904bdcaa430c6&profile_id=174&oauth2_token_id=57447761', 'googleImage': 'https://cdn5.vectorstock.com/i/1000x1000/26/39/business-office-networking-and-communication-vector-1892639.jpg'}]}}\n",
      "{'duration': 4.326, 'format': {'operation': 'verb', 'content': [{'operation': 'asset', 'expression': 'Workers', 'assetType': 'video', 'assetUrl': 'https://player.vimeo.com/external/325796130.hd.mp4?s=d59b7160b532bfb0b49376691f6e5b5bf6bfaaec&profile_id=175&oauth2_token_id=57447761', 'googleImage': 'https://www.newsclick.in/sites/default/files/2018-01/ILO%20Report%20Indian%20Workers_0.jpg'}, {'operation': 'asset', 'expression': 'instructions', 'assetType': 'video', 'assetUrl': 'https://player.vimeo.com/external/420459070.hd.mp4?s=7a59ed1d24c794d5ff622030c85288d241a8f3e3&profile_id=169&oauth2_token_id=57447761', 'googleImage': 'https://assets-global.website-files.com/610004329b339d60c2cf059c/630de068a7ad3f7f20c47281_StepbyStepGuide.jpg'}], 'verb': 'carry out'}}\n",
      "{'duration': 3.677, 'format': {'operation': '=', 'content': [{'operation': 'asset', 'expression': 'Operating System', 'assetType': 'video', 'assetUrl': 'https://player.vimeo.com/external/465043457.hd.mp4?s=7a820afa919424c73b9d55682d81d2b29e1059d3&profile_id=170&oauth2_token_id=57447761', 'googleImage': 'https://upload.wikimedia.org/wikipedia/commons/thumb/e/e1/Operating_system_placement.svg/800px-Operating_system_placement.svg.png'}, {'operation': 'asset', 'expression': 'Office Manager', 'assetType': 'video', 'assetUrl': 'https://player.vimeo.com/external/473177416.hd.mp4?s=873af58ed96fdaa4b8bdd1588f38e684b11e9598&profile_id=175&oauth2_token_id=57447761', 'googleImage': 'https://riveterconsulting.com/wp-content/uploads/2021/10/housmanbannerresize.jpg'}]}}\n",
      "{'duration': 6.14, 'format': {'operation': '=', 'content': [{'operation': 'asset', 'expression': 'Storage', 'assetType': 'video', 'assetUrl': 'https://player.vimeo.com/external/365676668.hd.mp4?s=7cddfb398ff807b75b5e4b32b8533c6917ccd1a3&profile_id=170&oauth2_token_id=57447761', 'googleImage': 'https://spacevalet.in/wp-content/uploads/2023/10/storage-solutions-Bangalore.png'}, {'operation': 'asset', 'expression': 'filing cabinets', 'assetType': 'video', 'assetUrl': 'https://player.vimeo.com/external/381327124.hd.mp4?s=005337dbfc67ac11961c98dd09b31a6a2c868af9&profile_id=175&oauth2_token_id=57447761', 'googleImage': 'https://5.imimg.com/data5/SELLER/Default/2023/9/345729310/MD/AB/IA/182872199/office-file-cabinet-500x500.jpg'}]}}\n",
      "{'duration': 7.955, 'format': {'operation': 'verb', 'content': [{'operation': 'asset', 'expression': 'Cpu', 'assetType': 'video', 'assetUrl': 'https://player.vimeo.com/external/199432825.hd.mp4?s=c2a13de8faf1942afaaaa6070bb0743a845bfc0d&profile_id=119&oauth2_token_id=57447761', 'googleImage': 'https://4.imimg.com/data4/YD/WW/MY-31969445/brand-new-cpu-sealed-pack.jpg'}, {'operation': 'asset', 'expression': 'information', 'assetType': 'video', 'assetUrl': 'https://player.vimeo.com/external/369268218.hd.mp4?s=0297cea129c7bd82bb0ed6d982b0b6b383d9a15e&profile_id=172&oauth2_token_id=57447761', 'googleImage': 'https://keydifferences.com/wp-content/uploads/2016/09/data-vs-informaton.jpg'}], 'verb': 'processes'}}\n",
      "{'duration': 6.036, 'format': {'operation': 'verb', 'content': [{'operation': 'asset', 'expression': 'Bus system', 'assetType': 'video', 'assetUrl': 'https://player.vimeo.com/external/365677713.hd.mp4?s=f8c8feae961181d347ac3321fa2c468f801efea7&profile_id=170&oauth2_token_id=57447761', 'googleImage': 'https://upload.wikimedia.org/wikipedia/commons/6/68/Computer_system_bus.svg'}, {'operation': 'asset', 'expression': 'data', 'assetType': 'video', 'assetUrl': 'https://player.vimeo.com/external/368789132.hd.mp4?s=33600fce2f968c7b3778ec3439df7d655a6f7585&profile_id=172&oauth2_token_id=57447761', 'googleImage': 'https://upload.wikimedia.org/wikipedia/commons/6/6d/Data_types_-_en.svg'}], 'verb': 'exchanges'}}\n",
      "{'duration': 3.369, 'format': {'operation': 'verb', 'content': [{'operation': 'asset', 'expression': 'Office communication system', 'assetType': 'video', 'assetUrl': 'https://player.vimeo.com/external/439043656.hd.mp4?s=72ac00b4028ab108bf9afe7a2e9ce6ddec678f85&profile_id=170&oauth2_token_id=57447761', 'googleImage': 'https://blog.vantagecircle.com/content/images/2020/06/Office-Communication-01.png'}, {'operation': 'asset', 'expression': 'workflow', 'assetType': 'image', 'assetUrl': 'none', 'googleImage': 'https://d2slcw3kip6qmk.cloudfront.net/marketing/blog/2019Q2/workflow/content-approval-workflow-example.png'}], 'verb': 'facilitates'}}\n",
      "{'duration': 3.049, 'format': {'operation': 'verb', 'content': [{'operation': 'asset', 'expression': 'Project manager', 'assetType': 'video', 'assetUrl': 'https://player.vimeo.com/external/482846951.hd.mp4?s=97be752968c0e27ae13a807da29943bbce4319c5&profile_id=175&oauth2_token_id=57447761', 'googleImage': 'https://www.feedough.com/wp-content/uploads/2021/09/project-manager-1024x576.webp'}, {'operation': 'asset', 'expression': 'resources', 'assetType': 'video', 'assetUrl': 'https://player.vimeo.com/external/367272285.hd.mp4?s=f02b4aa5ef646a329b797f9c277b4d0331336bfc&profile_id=174&oauth2_token_id=57447761', 'googleImage': 'https://1.bp.blogspot.com/-w4itUeRRKQ0/YSPfbA_qwLI/AAAAAAAAOus/T5X5ulNlAt4HjHSn020mG_IRGrCubNf8ACLcBGAsYHQ/w0/cea5fe7ce8dac051e04b9e45356e4c9c.jpg'}], 'verb': 'coordinates'}}\n",
      "{'duration': 5.519, 'format': {'operation': '=', 'content': [{'operation': 'asset', 'expression': 'Memory (RAM)', 'assetType': 'video', 'assetUrl': 'https://player.vimeo.com/external/462689518.hd.mp4?s=1d9257fc574aeb7a3d3c2b2ca3c2e82bcaf98161&profile_id=175&oauth2_token_id=57447761', 'googleImage': 'https://static.javatpoint.com/computer/images/ram.jpg'}, {'operation': 'asset', 'expression': 'Worker’s desk space', 'assetType': 'video', 'assetUrl': 'https://player.vimeo.com/external/542511987.hd.mp4?s=b208c9cd183286c85abe1fd6ebf2f74535bc0033&profile_id=172&oauth2_token_id=57447761', 'googleImage': 'https://media.istockphoto.com/id/487798098/photo/casually-dressed-workers-in-a-busy-open-plan-office.jpg?s=612x612&w=0&k=20&c=5ztRp23u1Rv91gSRyRXZrpfUPjC6DHdnm1lNLttCxzM='}]}}\n",
      "{'duration': 4.174, 'format': {'operation': 'verb', 'content': [{'operation': 'asset', 'expression': 'Space', 'assetType': 'video', 'assetUrl': 'https://player.vimeo.com/external/314181352.hd.mp4?s=03e7a8ddba6566f8a62cd7f8a8da7d79461c3dbd&profile_id=170&oauth2_token_id=57447761', 'googleImage': 'https://starwalk.space/gallery/images/what-is-space/1920x1080.jpg'}, {'operation': 'asset', 'expression': 'task handling', 'assetType': 'video', 'assetUrl': 'https://player.vimeo.com/external/451075932.hd.mp4?s=d83f14c069ce12d63b9f496555d7931beb794257&profile_id=175&oauth2_token_id=57447761', 'googleImage': 'https://assets.plan.io/images/blog/what-is-task-management.png'}], 'verb': 'allows'}}\n",
      "{'duration': 5.595, 'format': {'operation': '=', 'content': [{'operation': 'asset', 'expression': 'CPU', 'assetType': 'video', 'assetUrl': 'https://player.vimeo.com/external/199432825.hd.mp4?s=c2a13de8faf1942afaaaa6070bb0743a845bfc0d&profile_id=119&oauth2_token_id=57447761', 'googleImage': 'https://4.imimg.com/data4/YD/WW/MY-31969445/brand-new-cpu-sealed-pack.jpg'}, {'operation': 'asset', 'expression': 'office workers', 'assetType': 'video', 'assetUrl': 'https://player.vimeo.com/external/452226880.hd.mp4?s=82977c2272a41b9809a8eec867fd28bc0363ac88&profile_id=174&oauth2_token_id=57447761', 'googleImage': 'https://nypost.com/wp-content/uploads/sites/2/2019/04/workers-feeling-479.jpg?quality=75&strip=all'}]}}\n",
      "{'duration': 5.318, 'format': {'operation': '=', 'content': [{'operation': 'asset', 'expression': 'Output devices', 'assetType': 'video', 'assetUrl': 'https://player.vimeo.com/external/545861896.hd.mp4?s=714b240a9ce7a30373c1154e774b42e08595437d&profile_id=174&oauth2_token_id=57447761', 'googleImage': 'https://www.careerpower.in/blog/wp-content/uploads/sites/2/2023/07/16233029/output-devices.png'}, {'operation': 'asset', 'expression': 'workers results board', 'assetType': 'video', 'assetUrl': 'https://player.vimeo.com/external/372182116.hd.mp4?s=ada5ada2cd0e1f771487d09884264f1069093eec&profile_id=175&oauth2_token_id=57447761', 'googleImage': 'https://blogger.googleusercontent.com/img/b/R29vZ2xl/AVvXsEgQhrS9Cyt2M_iN5Yv64WE1RcGwpEfywb2Q2QuaDMP3g8bll5dzjSUK8cDS4GU2RSJ-oSJrpL9P1TRRqAQ2G0XuuHXczvxIjnn9Rn3luYvDiGlp9P5xXOUK7XZv42W3Q7tZWbRyQARqHJS7kJwV48kzQSZsDPVFDgGZWaHUZlg9SN5FSIdsg5C-Myv9dqk/s1200/social-worker-result-september-2023-passers.jpg'}]}}\n",
      "{'duration': 4.328, 'format': {'operation': '=', 'content': [{'operation': '&', 'content': [{'operation': 'asset', 'expression': 'Programs', 'assetType': 'video', 'assetUrl': 'https://player.vimeo.com/external/357563488.hd.mp4?s=42dbf432200b04ea74f2cbab4c9d455656dea0ff&profile_id=175&oauth2_token_id=57447761', 'googleImage': 'https://cdn.educba.com/academy/wp-content/uploads/2020/09/What-is-Program.jpg'}, {'operation': 'asset', 'expression': 'applications', 'assetType': 'video', 'assetUrl': 'https://player.vimeo.com/external/406187011.hd.mp4?s=3dbae0490d43f2d91d2812137f663dba6cf6c040&profile_id=171&oauth2_token_id=57447761', 'googleImage': 'https://images.spiceworks.com/wp-content/uploads/2022/12/26124808/Mobile-Apps.jpg'}]}, {'operation': 'asset', 'expression': 'Worker’s projects', 'assetType': 'video', 'assetUrl': 'https://player.vimeo.com/external/510531679.hd.mp4?s=0a2b98e7926b9fa5cb404071c6ffab6764ccb258&profile_id=170&oauth2_token_id=57447761', 'googleImage': 'https://images.livemint.com/img/2022/06/20/600x338/labour1--621x414_1655737046895.JPG'}]}}\n",
      "{'duration': 3.267, 'format': {'operation': 'verb', 'content': [{'operation': 'asset', 'expression': 'Program', 'assetType': 'video', 'assetUrl': 'https://player.vimeo.com/external/173394760.hd.mp4?s=a05c3ce4b94fe66dec311385702fd65c6b2f43dc&profile_id=119&oauth2_token_id=57447761', 'googleImage': 'https://upload.wikimedia.org/wikipedia/commons/3/39/C_Hello_World_Program.png'}, {'operation': 'asset', 'expression': 'instructions', 'assetType': 'video', 'assetUrl': 'https://player.vimeo.com/external/420459070.hd.mp4?s=7a59ed1d24c794d5ff622030c85288d241a8f3e3&profile_id=169&oauth2_token_id=57447761', 'googleImage': 'https://assets-global.website-files.com/610004329b339d60c2cf059c/630de068a7ad3f7f20c47281_StepbyStepGuide.jpg'}], 'verb': 'consists of'}}\n",
      "{'duration': 7.595, 'format': {'operation': '&', 'content': [{'operation': 'verb', 'content': [{'operation': 'asset', 'expression': 'Operating system', 'assetType': 'video', 'assetUrl': 'https://player.vimeo.com/external/465043457.hd.mp4?s=7a820afa919424c73b9d55682d81d2b29e1059d3&profile_id=170&oauth2_token_id=57447761', 'googleImage': 'https://upload.wikimedia.org/wikipedia/commons/thumb/e/e1/Operating_system_placement.svg/800px-Operating_system_placement.svg.png'}, {'operation': 'asset', 'expression': 'ram', 'assetType': 'video', 'assetUrl': 'https://player.vimeo.com/external/509779668.hd.mp4?s=0db4ef4a920bc155c853eea44708c2ec66a1cf7f&profile_id=170&oauth2_token_id=57447761', 'googleImage': 'https://static.javatpoint.com/computer/images/ram.jpg'}], 'verb': 'manages'}, {'operation': 'verb', 'content': [{'operation': 'void'}, {'operation': 'asset', 'expression': 'tasks', 'assetType': 'video', 'assetUrl': 'https://player.vimeo.com/external/537868903.hd.mp4?s=ce3def8ad58fe6620fd6e3fb6b97ae2740f63591&profile_id=172&oauth2_token_id=57447761', 'googleImage': 'https://www.sweetprocess.com/wp-content/uploads/2022/10/task-management-3.png'}], 'verb': 'prioritizes'}]}}\n",
      "[0, 1, 2, 3, 4, 5, 6, 7, 8, 9, 10, 11, 12, 13, 14, 15, 16, 17, 18, 19]\n"
     ]
    }
   ],
   "source": [
    "sentences = getSentences()\n",
    "with open(f\"../sample_data/{os.environ.get('expressionsKey')}.json\", \"r\") as f:\n",
    "    expressions = json.load(f)\n",
    "\n",
    "master(sentences, expressions, os.environ.get(\"testKey\"))\n",
    "with open(f\"../sample_data/{os.environ.get('propsKey')}.json\", \"w\") as fp:\n",
    "    json.dump(sampleProps, fp)"
   ]
  }
 ],
 "metadata": {
  "kernelspec": {
   "display_name": "venv",
   "language": "python",
   "name": "python3"
  },
  "language_info": {
   "codemirror_mode": {
    "name": "ipython",
    "version": 3
   },
   "file_extension": ".py",
   "mimetype": "text/x-python",
   "name": "python",
   "nbconvert_exporter": "python",
   "pygments_lexer": "ipython3",
   "version": "3.8.0"
  }
 },
 "nbformat": 4,
 "nbformat_minor": 2
}
