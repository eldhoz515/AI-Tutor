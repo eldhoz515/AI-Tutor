{
 "cells": [
  {
   "cell_type": "code",
   "execution_count": 12,
   "metadata": {},
   "outputs": [],
   "source": [
    "import boto3\n",
    "import os\n",
    "import json\n",
    "\n",
    "if not os.environ.get(\"prod\"):\n",
    "    session = boto3.Session(profile_name=\"stryvia\")\n",
    "    s3Client = session.client(\"s3\")\n",
    "    from dotenv import load_dotenv\n",
    "    load_dotenv()\n",
    "else:\n",
    "    s3Client = boto3.client(\"s3\")\n",
    "\n",
    "\n",
    "def saveToS3(body, path):\n",
    "    response = s3Client.put_object(\n",
    "        Body=body,\n",
    "        Bucket=\"ai-tutor-s3\",\n",
    "        Key=path,\n",
    "    )\n",
    "\n",
    "\n",
    "def getFromS3(path):\n",
    "    bucket = \"ai-tutor-s3\"\n",
    "    response = s3Client.get_object(Bucket=bucket, Key=path)\n",
    "    return response[\"Body\"]\n"
   ]
  },
  {
   "cell_type": "code",
   "execution_count": 13,
   "metadata": {},
   "outputs": [],
   "source": [
    "from openai import OpenAI\n",
    "    \n",
    "client = OpenAI(\n",
    "    api_key=os.environ.get(\"openAIKey\"),\n",
    ")"
   ]
  },
  {
   "cell_type": "code",
   "execution_count": 14,
   "metadata": {},
   "outputs": [],
   "source": [
    "def get_response(query):\n",
    "    response = client.chat.completions.create(\n",
    "        messages=[\n",
    "            {\n",
    "                \"role\":\"system\",\n",
    "                \"content\":\"You are a teacher who uses analogy for everything\"\n",
    "            },\n",
    "            {\n",
    "                \"role\": \"user\",\n",
    "                \"content\": query,\n",
    "            }\n",
    "        ],\n",
    "        model=os.environ.get(\"phase1Model\"),\n",
    "    )\n",
    "    return str(response.choices[0].message.content)"
   ]
  },
  {
   "cell_type": "code",
   "execution_count": 15,
   "metadata": {},
   "outputs": [],
   "source": [
    "def main(query,key=os.environ.get(\"key\")):\n",
    "    data = get_response(query)\n",
    "    saveToS3(json.dumps(data),f\"sentences/{key}.json\")\n",
    "    return data"
   ]
  },
  {
   "cell_type": "code",
   "execution_count": 16,
   "metadata": {},
   "outputs": [],
   "source": [
    "def lambda_handler(event, context):\n",
    "    try:\n",
    "        y=json.loads(event[\"body\"])\n",
    "    except:\n",
    "        y=event\n",
    "    \n",
    "    query=y[\"query\"]\n",
    "    key=y[\"key\"]\n",
    "    output=main(query,key)\n",
    "    \n",
    "    \n",
    "    return {\n",
    "        'statusCode': 200,\n",
    "        'body': json.dumps(output)\n",
    "    }\n"
   ]
  }
 ],
 "metadata": {
  "kernelspec": {
   "display_name": "venv",
   "language": "python",
   "name": "python3"
  },
  "language_info": {
   "codemirror_mode": {
    "name": "ipython",
    "version": 3
   },
   "file_extension": ".py",
   "mimetype": "text/x-python",
   "name": "python",
   "nbconvert_exporter": "python",
   "pygments_lexer": "ipython3",
   "version": "3.8.0"
  }
 },
 "nbformat": 4,
 "nbformat_minor": 2
}
