{
 "cells": [
  {
   "cell_type": "code",
   "execution_count": 1,
   "metadata": {},
   "outputs": [],
   "source": [
    "import boto3\n",
    "import os\n",
    "import json\n",
    "\n",
    "if not os.environ.get(\"prod\"):\n",
    "    session = boto3.Session(profile_name=\"stryvia\")\n",
    "    s3Client = session.client(\"s3\")\n",
    "    lambdaClient=session.client('lambda')\n",
    "    from dotenv import load_dotenv\n",
    "    load_dotenv()\n",
    "else:\n",
    "    s3Client = boto3.client(\"s3\")\n",
    "    lambdaClient=boto3.client('lambda')\n",
    "\n",
    "\n",
    "def saveToS3(body, path):\n",
    "    response = s3Client.put_object(\n",
    "        Body=body,\n",
    "        Bucket=\"ai-tutor-s3\",\n",
    "        Key=path,\n",
    "    )\n",
    "\n",
    "\n",
    "def getFromS3(path):\n",
    "    bucket = \"ai-tutor-s3\"\n",
    "    response = s3Client.get_object(Bucket=bucket, Key=path)\n",
    "    return response[\"Body\"]\n"
   ]
  },
  {
   "cell_type": "code",
   "execution_count": 2,
   "metadata": {},
   "outputs": [],
   "source": [
    "import io,time"
   ]
  },
  {
   "cell_type": "code",
   "execution_count": 3,
   "metadata": {},
   "outputs": [],
   "source": [
    "def invokeLambda(functionName,data):\n",
    "    response = lambdaClient.invoke(\n",
    "        FunctionName=functionName,\n",
    "        InvocationType=\"RequestResponse\",\n",
    "        LogType=\"None\",\n",
    "        Payload=data,\n",
    "    )"
   ]
  },
  {
   "cell_type": "code",
   "execution_count": 4,
   "metadata": {},
   "outputs": [],
   "source": [
    "def saveStatus(status, key, query, renderIds=None):\n",
    "    print(status)\n",
    "    saveToS3(\n",
    "        json.dumps(dict(status=status, query=query, renderIds=renderIds)),\n",
    "        f\"status/{key}.json\",\n",
    "    )"
   ]
  },
  {
   "cell_type": "code",
   "execution_count": 5,
   "metadata": {},
   "outputs": [],
   "source": [
    "def getRenderIds(key):\n",
    "    buffer=getFromS3(f\"renderIds/{key}.json\")\n",
    "    with io.BytesIO(buffer.read()) as file:\n",
    "        return json.load(file)"
   ]
  },
  {
   "cell_type": "code",
   "execution_count": 6,
   "metadata": {},
   "outputs": [],
   "source": [
    "def isThereError(renderId):\n",
    "    response = s3Client.list_objects(\n",
    "        Bucket=os.environ.get(\"remotionBucket\"), Prefix=f\"renders/{renderId}/errors\"\n",
    "    )\n",
    "    return len(response.get(\"Contents\", [])) > 0"
   ]
  },
  {
   "cell_type": "code",
   "execution_count": 7,
   "metadata": {},
   "outputs": [],
   "source": [
    "def checkRender(renderId):\n",
    "    try:\n",
    "        bucket = os.environ.get(\"remotionBucket\")\n",
    "        response = s3Client.get_object(Bucket=bucket, Key=f\"renders/{renderId}/out.mp4\")\n",
    "    except Exception as e:\n",
    "        print(e)\n",
    "        if isThereError(renderId):\n",
    "            print(f\"Fatal error : {renderId}\")\n",
    "            return\n",
    "        time.sleep(10)\n",
    "        checkRender(renderId)"
   ]
  },
  {
   "cell_type": "code",
   "execution_count": 8,
   "metadata": {},
   "outputs": [],
   "source": [
    "def waitForRender(key):\n",
    "    renderIds = getRenderIds(key)\n",
    "    for i, renderId in enumerate(renderIds):\n",
    "        checkRender(renderId)\n",
    "        print(f\"Renders finished {i+1}/{len(renderIds)}\")\n",
    "    return renderIds"
   ]
  },
  {
   "cell_type": "code",
   "execution_count": 9,
   "metadata": {},
   "outputs": [],
   "source": [
    "def main(query, key=os.environ.get(\"key\")):\n",
    "    print(key)\n",
    "    try:\n",
    "        invokeLambda(\"ai_tutor_phase1\", json.dumps(dict(query=query, key=key)))\n",
    "        saveStatus(\"phase1\", key, query)\n",
    "        invokeLambda(\"ai_tutor_voiceGen\", json.dumps(dict(key=key)))\n",
    "        saveStatus(\"voiceGen\", key, query)\n",
    "        invokeLambda(\"ai_tutor_phase2\", json.dumps(dict(key=key)))\n",
    "        saveStatus(\"phase2\", key, query)\n",
    "        invokeLambda(\"ai_tutor_processor\", json.dumps(dict(key=key)))\n",
    "        saveStatus(\"processed\", key, query)\n",
    "        renderIds = waitForRender(key)\n",
    "        saveStatus(\"rendered\", key, query, renderIds)\n",
    "    except:\n",
    "        saveStatus(\"error\", key, query)"
   ]
  },
  {
   "cell_type": "code",
   "execution_count": 10,
   "metadata": {},
   "outputs": [],
   "source": [
    "def lambda_handler(event, context):\n",
    "    try:\n",
    "        y=json.loads(event[\"body\"])\n",
    "    except:\n",
    "        y=event\n",
    "    \n",
    "    query=y[\"query\"]\n",
    "    key=y[\"key\"]\n",
    "    main(query,key)\n",
    "    \n",
    "    return {\n",
    "        'statusCode': 200,\n",
    "    }"
   ]
  }
 ],
 "metadata": {
  "kernelspec": {
   "display_name": "venv",
   "language": "python",
   "name": "python3"
  },
  "language_info": {
   "codemirror_mode": {
    "name": "ipython",
    "version": 3
   },
   "file_extension": ".py",
   "mimetype": "text/x-python",
   "name": "python",
   "nbconvert_exporter": "python",
   "pygments_lexer": "ipython3",
   "version": "3.8.0"
  }
 },
 "nbformat": 4,
 "nbformat_minor": 2
}
