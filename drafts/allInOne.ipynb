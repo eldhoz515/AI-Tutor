{
 "cells": [
  {
   "cell_type": "code",
   "execution_count": 1,
   "metadata": {},
   "outputs": [],
   "source": [
    "import phase1,phase2,voiceGen,processor,downloadVideo,merger\n",
    "import os,uuid,json"
   ]
  },
  {
   "cell_type": "code",
   "execution_count": 2,
   "metadata": {},
   "outputs": [],
   "source": [
    "def main(query, key=os.environ.get(\"key\")):\n",
    "    print(f\"key : {key}\")\n",
    "    phase1.main(query, key)\n",
    "    print(f\"Phase1 completed\")\n",
    "    voiceGen.main(key)\n",
    "    print(f\"Voice generated\")\n",
    "    phase2.main(key)\n",
    "    print(f\"Phase2 completed\")\n",
    "    processor.main(key)\n",
    "    print(f\"Processing completed\")\n",
    "    downloadVideo.main(key)\n",
    "    merger.main(fileName=query, key=key)"
   ]
  },
  {
   "cell_type": "code",
   "execution_count": 3,
   "metadata": {},
   "outputs": [
    {
     "name": "stdout",
     "output_type": "stream",
     "text": [
      "key : 61dc6fc2-eff5-4207-90ac-c37f5bcef11e\n",
      "Phase1 completed\n",
      "Voice generated\n",
      "Phase2 completed\n",
      "starting worker 0 : API = “restaurant menu” (uses analogy).\n",
      "starting worker 1 :  Customer “eats” dish.\n",
      "starting worker 2 :  API=menu.\n",
      "starting worker 3 : Menu “contains” dishes.\n",
      "starting worker 4 : API= endpoints + request operations.\n",
      "starting worker 5 :  User “orders” food.\n",
      "starting worker 6 : Client “sends” request.\n",
      "starting worker 7 :  Waiter “takes” order.\n",
      "starting worker 8 :  Kitchen 'prepares' dish.\n",
      "starting worker 9 : Kitchen = server.\n",
      "starting worker 10 : Device “carries out” actions.\n",
      "starting worker 11 :  Chef prepares dishes.\n",
      "starting worker 12 :  backend developers = chefs.\n",
      "starting worker 13 :  Functionality design = API.\n",
      "starting worker 14 :  Ingredients = API.\n",
      "starting worker 15 : API “works with” data sets.\n",
      "starting worker 16 :  Cooking process=backend operations.\n",
      "starting worker 17 : Kitchen “prepares” ingredients.\n",
      "starting worker 18 :  Waiter brings food.\n",
      "starting worker 19 : Server response = dish.\n",
      "starting worker 20 : Output data=operation outcome.\n",
      "list index out of range\n",
      "Expecting value: line 1 column 1 (char 0)\n",
      "Expecting value: line 1 column 1 (char 0)\n",
      "Expecting value: line 1 column 1 (char 0)\n",
      "Expecting value: line 1 column 1 (char 0)\n",
      "['5bu0nlmcea', 'epkxnhdh35', 'vgcyrkxx3k', 'l2iy7feg21', 'qf83ejlbxo', '0zux5iyqnp', 'lkk01rh149', 'q8p0yehnob', 'ofnipb9kwb', '9yb3m2va97', 'z59t4adrli', 'byfwyhb1sz', 'ja4amrs88p', 'dbkdfyt1lh', '5tzcxuygss', '8d4b06riu6', 'rlsa9dsqxt', 'r03da2k74n', 'u6u1gqk5iv', 'o0x7p74tsi', 'c7puk03n89']\n",
      "Processing completed\n",
      "Downloading 1/21\n",
      "An error occurred (404) when calling the HeadObject operation: Not Found 5bu0nlmcea\n",
      "Downloading 2/21\n",
      "Downloading 3/21\n",
      "Downloading 4/21\n",
      "Downloading 5/21\n",
      "Downloading 6/21\n",
      "Downloading 7/21\n",
      "Downloading 8/21\n",
      "Downloading 9/21\n",
      "Downloading 10/21\n",
      "Downloading 11/21\n",
      "Downloading 12/21\n",
      "Downloading 13/21\n",
      "Downloading 14/21\n",
      "Downloading 15/21\n",
      "Downloading 16/21\n",
      "Downloading 17/21\n",
      "Downloading 18/21\n",
      "Downloading 19/21\n",
      "Downloading 20/21\n",
      "Downloading 21/21\n",
      "Moviepy - Building video ../renders/61dc6fc2-eff5-4207-90ac-c37f5bcef11e/how_api_works.mp4.\n",
      "MoviePy - Writing audio in how_api_worksTEMP_MPY_wvf_snd.mp3\n"
     ]
    },
    {
     "name": "stderr",
     "output_type": "stream",
     "text": [
      "                                                                      \r"
     ]
    },
    {
     "name": "stdout",
     "output_type": "stream",
     "text": [
      "MoviePy - Done.\n",
      "Moviepy - Writing video ../renders/61dc6fc2-eff5-4207-90ac-c37f5bcef11e/how_api_works.mp4\n",
      "\n"
     ]
    },
    {
     "name": "stderr",
     "output_type": "stream",
     "text": [
      "                                                                \r"
     ]
    },
    {
     "name": "stdout",
     "output_type": "stream",
     "text": [
      "Moviepy - Done !\n",
      "Moviepy - video ready ../renders/61dc6fc2-eff5-4207-90ac-c37f5bcef11e/how_api_works.mp4\n"
     ]
    }
   ],
   "source": [
    "main(\"how api works\",str(uuid.uuid4()))"
   ]
  }
 ],
 "metadata": {
  "kernelspec": {
   "display_name": "venv",
   "language": "python",
   "name": "python3"
  },
  "language_info": {
   "codemirror_mode": {
    "name": "ipython",
    "version": 3
   },
   "file_extension": ".py",
   "mimetype": "text/x-python",
   "name": "python",
   "nbconvert_exporter": "python",
   "pygments_lexer": "ipython3",
   "version": "3.8.0"
  }
 },
 "nbformat": 4,
 "nbformat_minor": 2
}
