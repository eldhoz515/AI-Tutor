{
 "cells": [
  {
   "cell_type": "code",
   "execution_count": 1,
   "metadata": {},
   "outputs": [],
   "source": [
    "import phase1,phase2,voiceGen,processor,downloadVideo,merger\n",
    "import os,uuid,json"
   ]
  },
  {
   "cell_type": "code",
   "execution_count": 2,
   "metadata": {},
   "outputs": [],
   "source": [
    "def main(query, key=os.environ.get(\"key\")):\n",
    "    print(f\"key : {key}\")\n",
    "    phase1.main(query, key)\n",
    "    print(f\"Phase1 completed\")\n",
    "    voiceGen.main(key)\n",
    "    print(f\"Voice generated\")\n",
    "    phase2.main(key)\n",
    "    print(f\"Phase2 completed\")\n",
    "    processor.main(key)\n",
    "    print(f\"Processing completed\")\n",
    "    downloadVideo.main(key)\n",
    "    merger.main(fileName=query, key=key)"
   ]
  },
  {
   "cell_type": "code",
   "execution_count": 3,
   "metadata": {},
   "outputs": [
    {
     "name": "stdout",
     "output_type": "stream",
     "text": [
      "key : 82ea7611-737c-4b9b-adb6-9de15c79277d\n",
      "Phase1 completed\n",
      "Generating voice\n",
      "Generating caption\n",
      "Voice generated\n",
      "Converting sentence 1/21\n",
      "Converting sentence 2/21\n",
      "Converting sentence 3/21\n",
      "Converting sentence 4/21\n",
      "Converting sentence 5/21\n",
      "Converting sentence 6/21\n",
      "Converting sentence 7/21\n",
      "Converting sentence 8/21\n",
      "Converting sentence 9/21\n",
      "Converting sentence 10/21\n",
      "Converting sentence 11/21\n",
      "Converting sentence 12/21\n",
      "Converting sentence 13/21\n",
      "Converting sentence 14/21\n",
      "Converting sentence 15/21\n",
      "Converting sentence 16/21\n",
      "Converting sentence 17/21\n",
      "Converting sentence 18/21\n",
      "Converting sentence 19/21\n",
      "Converting sentence 20/21\n",
      "Converting sentence 21/21\n",
      "Phase2 completed\n",
      "starting worker 0 :  Electricity “is” marble flow.\n",
      "starting worker 1 :  Voltage = “push”.\n",
      "\n",
      "starting worker 2 : Voltage “drives” charges.\n",
      "starting worker 3 :  Voltage “pushes” charges.\n",
      "starting worker 4 :  Wire “conducts” electricity.\n",
      "starting worker 5 :  Conductors “allow” charges flow.\n",
      "starting worker 6 :  Resistance=rough tube.\n",
      "starting worker 7 :  Ohm's law: V=IR.\n",
      "list index out of range\n",
      "starting worker 8 :  Resistance=obstacle.\n",
      "starting worker 9 : Resistance = property(material).\n",
      "starting worker 10 : Marbles flow = electric current.\n",
      "starting worker 11 :  Current “electric charges” amperes.\n",
      "starting worker 12 : Flowing marbles = current.\n",
      "starting worker 13 :  Circuit=electric circuit.\n",
      "starting worker 14 : Power source “provides” voltage.\n",
      "starting worker 15 :  Switch = control valve.\n",
      "starting worker 16 : Switch “starts” flow.\n",
      "starting worker 17 :  Battery = pump.\n",
      "starting worker 18 : Battery “sources” energy.\n",
      "starting worker 19 :  Magnetic tube “attracts” marble.\n",
      "starting worker 20 : Electric current “creates” magnetic field.\n",
      "Expecting value: line 1 column 1 (char 0)\n",
      "list index out of range\n",
      "Expecting value: line 1 column 1 (char 0)\n",
      "Expecting value: line 1 column 1 (char 0)\n",
      "Expecting value: line 1 column 1 (char 0)\n",
      "Expecting value: line 1 column 1 (char 0)\n",
      "['rvagfweb36', 'w7lefnfdsf', 'ixpsv30b5p', 'xsfp43b51i', '8q596vp4fs', 'ob6w1qdypk', 'wt9m8ydn2p', '5wavokrwbm', 'i5ll5r2unl', 'xfj8k7uz6b', 'am2xkwnoey', 'kjd2z4w93v', '8r5ane0l7g', '1vwgei2iur', 'onhadxaq00', '0loggfqpc4', 'vk1q5volsz', '0hhetjas2p', '31amkuxxum', 'uc0vzl5k62', '3obmw1xwgj']\n",
      "Processing completed\n",
      "Downloading 1/21\n",
      "Downloading 2/21\n",
      "Downloading 3/21\n",
      "Downloading 4/21\n",
      "An error occurred (404) when calling the HeadObject operation: Not Found xsfp43b51i\n",
      "Downloading 5/21\n",
      "Downloading 6/21\n",
      "Downloading 7/21\n",
      "Downloading 8/21\n",
      "Downloading 9/21\n",
      "Downloading 10/21\n",
      "Downloading 11/21\n",
      "Downloading 12/21\n",
      "Downloading 13/21\n",
      "Downloading 14/21\n",
      "Downloading 15/21\n",
      "Downloading 16/21\n",
      "Downloading 17/21\n",
      "Downloading 18/21\n",
      "Downloading 19/21\n",
      "Downloading 20/21\n",
      "Downloading 21/21\n",
      "Moviepy - Building video ../renders/82ea7611-737c-4b9b-adb6-9de15c79277d/how_electricity_works.mp4.\n",
      "MoviePy - Writing audio in how_electricity_worksTEMP_MPY_wvf_snd.mp3\n"
     ]
    },
    {
     "name": "stderr",
     "output_type": "stream",
     "text": [
      "                                                                      \r"
     ]
    },
    {
     "name": "stdout",
     "output_type": "stream",
     "text": [
      "MoviePy - Done.\n",
      "Moviepy - Writing video ../renders/82ea7611-737c-4b9b-adb6-9de15c79277d/how_electricity_works.mp4\n",
      "\n"
     ]
    },
    {
     "name": "stderr",
     "output_type": "stream",
     "text": [
      "                                                                 \r"
     ]
    },
    {
     "name": "stdout",
     "output_type": "stream",
     "text": [
      "Moviepy - Done !\n",
      "Moviepy - video ready ../renders/82ea7611-737c-4b9b-adb6-9de15c79277d/how_electricity_works.mp4\n"
     ]
    }
   ],
   "source": [
    "main(\"how electricity works\",str(uuid.uuid4()))"
   ]
  }
 ],
 "metadata": {
  "kernelspec": {
   "display_name": "venv",
   "language": "python",
   "name": "python3"
  },
  "language_info": {
   "codemirror_mode": {
    "name": "ipython",
    "version": 3
   },
   "file_extension": ".py",
   "mimetype": "text/x-python",
   "name": "python",
   "nbconvert_exporter": "python",
   "pygments_lexer": "ipython3",
   "version": "3.8.0"
  }
 },
 "nbformat": 4,
 "nbformat_minor": 2
}
