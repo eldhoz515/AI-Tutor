{
 "cells": [
  {
   "cell_type": "code",
   "execution_count": null,
   "metadata": {},
   "outputs": [],
   "source": [
    "import phase1,phase2,voiceGen,processor,downloadVideo,merger\n",
    "import os,uuid,json"
   ]
  },
  {
   "cell_type": "code",
   "execution_count": null,
   "metadata": {},
   "outputs": [],
   "source": [
    "def main(query, key=os.environ.get(\"key\")):\n",
    "    print(f\"key : {key}\")\n",
    "    phase1.main(query, key)\n",
    "    print(f\"Phase1 completed\")\n",
    "    voiceGen.main(key)\n",
    "    print(f\"Voice generated\")\n",
    "    phase2.main(key)\n",
    "    print(f\"Phase2 completed\")\n",
    "    processor.main(key)\n",
    "    print(f\"Processing completed\")\n",
    "    downloadVideo.main(key)\n",
    "    merger.main(fileName=query, key=key)"
   ]
  },
  {
   "cell_type": "code",
   "execution_count": null,
   "metadata": {},
   "outputs": [],
   "source": [
    "main(\"how api works\",str(uuid.uuid4()))"
   ]
  }
 ],
 "metadata": {
  "kernelspec": {
   "display_name": "venv",
   "language": "python",
   "name": "python3"
  },
  "language_info": {
   "codemirror_mode": {
    "name": "ipython",
    "version": 3
   },
   "file_extension": ".py",
   "mimetype": "text/x-python",
   "name": "python",
   "nbconvert_exporter": "python",
   "pygments_lexer": "ipython3",
   "version": "3.8.0"
  }
 },
 "nbformat": 4,
 "nbformat_minor": 2
}
