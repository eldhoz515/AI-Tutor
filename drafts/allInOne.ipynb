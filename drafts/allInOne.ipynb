{
 "cells": [
  {
   "cell_type": "code",
   "execution_count": 5,
   "metadata": {},
   "outputs": [],
   "source": [
    "import phase1,phase2,voiceGen,processor,downloadVideo,merger\n",
    "import os,uuid,json,threading"
   ]
  },
  {
   "cell_type": "code",
   "execution_count": 6,
   "metadata": {},
   "outputs": [],
   "source": [
    "def main(query, key=os.environ.get(\"key\")):\n",
    "    print(f\"key : {key}\")\n",
    "    phase1.main(query, key)\n",
    "    print(f\"Phase1 completed\")\n",
    "    voiceGen.main(key)\n",
    "    print(f\"Voice generated\")\n",
    "    phase2.main(key)\n",
    "    print(f\"Phase2 completed\")\n",
    "    processor.main(key)\n",
    "    print(f\"Processing completed\")\n",
    "    downloadVideo.main(key)\n",
    "    merger.main(fileName=query, key=key)"
   ]
  },
  {
   "cell_type": "code",
   "execution_count": 7,
   "metadata": {},
   "outputs": [
    {
     "name": "stdout",
     "output_type": "stream",
     "text": [
      "key : 083d5fcd-7c63-44f1-aa6d-6b5c1cae28c8\n",
      "Phase1 completed\n",
      "Generating voice\n",
      "Generating caption\n",
      "Voice generated\n",
      "Converting sentence 1/16\n",
      "Converting sentence 2/16\n",
      "Converting sentence 3/16\n",
      "Converting sentence 4/16\n",
      "Converting sentence 5/16\n",
      "Converting sentence 6/16\n",
      "Converting sentence 7/16\n",
      "Converting sentence 8/16\n",
      "Converting sentence 9/16\n",
      "Converting sentence 10/16\n",
      "Converting sentence 11/16\n",
      "Converting sentence 12/16\n",
      "Converting sentence 13/16\n",
      "Converting sentence 14/16\n",
      "Converting sentence 15/16\n",
      "Converting sentence 16/16\n",
      "Phase2 completed\n",
      "#### Fake processing ####\n",
      "Finishing worker 1/16\n",
      "Finishing worker 2/16\n",
      "Finishing worker 3/16\n",
      "Finishing worker 4/16\n",
      "Finishing worker 5/16\n",
      "Finishing worker 6/16\n",
      "Finishing worker 7/16\n",
      "Finishing worker 8/16\n",
      "Finishing worker 9/16\n",
      "Finishing worker 10/16\n",
      "Finishing worker 11/16\n",
      "Finishing worker 12/16\n",
      "Finishing worker 13/16\n",
      "Finishing worker 14/16\n",
      "Finishing worker 15/16\n",
      "Finishing worker 16/16\n",
      "Fetching asset 1/25\n",
      "Fetching asset 2/25\n",
      "Fetching asset 3/25\n",
      "Fetching asset 4/25\n",
      "Fetching asset 5/25\n",
      "Fetching asset 6/25\n",
      "Fetching asset 7/25\n",
      "Fetching asset 8/25\n",
      "Fetching asset 9/25\n",
      "Fetching asset 10/25\n",
      "Fetching asset 11/25\n",
      "Fetching asset 12/25\n",
      "Fetching asset 13/25\n",
      "Fetching asset 14/25\n",
      "Fetching asset 15/25\n",
      "Fetching asset 16/25\n",
      "Fetching asset 17/25\n",
      "Fetching asset 18/25\n",
      "Fetching asset 19/25\n",
      "Fetching asset 20/25\n",
      "Fetching asset 21/25\n",
      "Fetching asset 22/25\n",
      "Fetching asset 23/25\n",
      "Fetching asset 24/25\n",
      "Fetching asset 25/25\n",
      "#### Real processing ####\n",
      "Finishing worker 1/16\n",
      "Finishing worker 2/16\n",
      "Finishing worker 3/16\n",
      "Finishing worker 4/16\n",
      "Finishing worker 5/16\n",
      "Finishing worker 6/16\n",
      "Finishing worker 7/16\n",
      "Finishing worker 8/16\n",
      "Finishing worker 9/16\n",
      "Finishing worker 10/16\n",
      "Finishing worker 11/16\n",
      "Finishing worker 12/16\n",
      "Finishing worker 13/16\n",
      "Finishing worker 14/16\n",
      "Finishing worker 15/16\n",
      "Finishing worker 16/16\n",
      "['ez0gtba5eo', 'd1ugvidnuk', '4dv1cmt5cj', 'bodbl2tdyp', 'kl9171n7og', 'daj4rvpb51', 'ost1ejxe4i', 'ikp0nqtit3', 'nazlsfr87l', 'l699u15sux', 'qzofo8dayn', '1dxw1ypx1k', '9i3oouqglt', 'rhvlqed51p', 'p0vml70dgc', 'ikbibl3c3x']\n",
      "Processing completed\n",
      "Downloading 1/16\n",
      "An error occurred (404) when calling the HeadObject operation: Not Found ez0gtba5eo\n",
      "An error occurred (404) when calling the HeadObject operation: Not Found ez0gtba5eo\n",
      "Downloading 2/16\n",
      "Downloading 3/16\n",
      "Downloading 4/16\n",
      "Downloading 5/16\n",
      "Downloading 6/16\n",
      "Downloading 7/16\n",
      "Downloading 8/16\n",
      "Downloading 9/16\n",
      "Downloading 10/16\n",
      "Downloading 11/16\n",
      "Downloading 12/16\n",
      "Downloading 13/16\n",
      "Downloading 14/16\n",
      "Downloading 15/16\n",
      "Downloading 16/16\n",
      "Moviepy - Building video ../renders/083d5fcd-7c63-44f1-aa6d-6b5c1cae28c8/how_api_works.mp4.\n",
      "MoviePy - Writing audio in how_api_worksTEMP_MPY_wvf_snd.mp3\n"
     ]
    },
    {
     "name": "stderr",
     "output_type": "stream",
     "text": [
      "                                                                      \r"
     ]
    },
    {
     "name": "stdout",
     "output_type": "stream",
     "text": [
      "MoviePy - Done.\n",
      "Moviepy - Writing video ../renders/083d5fcd-7c63-44f1-aa6d-6b5c1cae28c8/how_api_works.mp4\n",
      "\n"
     ]
    },
    {
     "name": "stderr",
     "output_type": "stream",
     "text": [
      "                                                                 \r"
     ]
    },
    {
     "name": "stdout",
     "output_type": "stream",
     "text": [
      "Moviepy - Done !\n",
      "Moviepy - video ready ../renders/083d5fcd-7c63-44f1-aa6d-6b5c1cae28c8/how_api_works.mp4\n"
     ]
    }
   ],
   "source": [
    "main(\"how api works\",str(uuid.uuid4()))"
   ]
  }
 ],
 "metadata": {
  "kernelspec": {
   "display_name": "venv",
   "language": "python",
   "name": "python3"
  },
  "language_info": {
   "codemirror_mode": {
    "name": "ipython",
    "version": 3
   },
   "file_extension": ".py",
   "mimetype": "text/x-python",
   "name": "python",
   "nbconvert_exporter": "python",
   "pygments_lexer": "ipython3",
   "version": "3.8.0"
  }
 },
 "nbformat": 4,
 "nbformat_minor": 2
}
