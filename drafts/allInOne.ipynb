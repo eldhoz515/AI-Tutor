{
 "cells": [
  {
   "cell_type": "code",
   "execution_count": 4,
   "metadata": {},
   "outputs": [],
   "source": [
    "import phase1,phase2,voiceGen,processor,downloadVideo,merger\n",
    "import os,uuid,json"
   ]
  },
  {
   "cell_type": "code",
   "execution_count": 5,
   "metadata": {},
   "outputs": [],
   "source": [
    "def main(query, key=os.environ.get(\"key\")):\n",
    "    phase1.main(query, key)\n",
    "    voiceGen.main(key)\n",
    "    phase2.main(key)\n",
    "    processor.main(key)\n",
    "    downloadVideo.main(key)\n",
    "    merger.main(fileName=query, key=key)"
   ]
  },
  {
   "cell_type": "code",
   "execution_count": 7,
   "metadata": {},
   "outputs": [
    {
     "name": "stdout",
     "output_type": "stream",
     "text": [
      "starting worker 0 :  Diffie hellman “paint mixing”.\n",
      "\n",
      "starting worker 1 :  Secret color “red. ”.\n",
      "starting worker 2 :  Prime numbers “agree on” color & mixing.\n",
      "starting worker 3 : Secret keys “are like” shared secrets.\n",
      "starting worker 4 :  Base color “secretly” selected.\n",
      "starting worker 5 : Base colors = private keys.\n",
      "starting worker 6 :  Public mixing.\n",
      "starting worker 7 :  Secret colors “shared” -> results.\n",
      "starting worker 8 :  Mixed colors exchanged.\n",
      "starting worker 9 : Base color “mix with” received color.\n",
      "starting worker 10 :  Shared secret = same final color.\n",
      "starting worker 11 : Shared color = secret key.\n",
      "starting worker 12 : Eavesdropper “can’t” hack.\n",
      "starting worker 13 : Discrete logarithm “problem” difficult.\n",
      "list index out of range\n",
      "list index out of range\n",
      "list index out of range\n",
      "['9p0q1i9ryd', 'y58hgdc38i', 'mxjsbxtm57', 'mewqw8q2kr', 'p2nj5qjon2', 'fxsmymxlvx', '89o4k8vqdn', 'kvy394ag2j', '1xip5dhlw5', 'qtf1ai7b69', 'wwslozf6yz', 'g9jcgfbtdo', '4fh1xybev7', 'ad4xoi5mvj']\n",
      "Downloading 1/14\n",
      "An error occurred (404) when calling the HeadObject operation: Not Found 9p0q1i9ryd\n",
      "Downloading 2/14\n",
      "Downloading 3/14\n",
      "An error occurred (404) when calling the HeadObject operation: Not Found mxjsbxtm57\n",
      "Downloading 4/14\n",
      "An error occurred (404) when calling the HeadObject operation: Not Found mewqw8q2kr\n",
      "Downloading 5/14\n",
      "Downloading 6/14\n",
      "Downloading 7/14\n",
      "Downloading 8/14\n",
      "Downloading 9/14\n",
      "Downloading 10/14\n",
      "Downloading 11/14\n",
      "Downloading 12/14\n",
      "Downloading 13/14\n",
      "Downloading 14/14\n",
      "An error occurred (404) when calling the HeadObject operation: Not Found ad4xoi5mvj\n",
      "Fatal error\n",
      "Moviepy - Building video ../renders/7286cff1-6170-4d5e-942c-7471234a911c/diffie_hellman_key_exchange.mp4.\n",
      "MoviePy - Writing audio in diffie_hellman_key_exchangeTEMP_MPY_wvf_snd.mp3\n"
     ]
    },
    {
     "name": "stderr",
     "output_type": "stream",
     "text": [
      "                                                                      \r"
     ]
    },
    {
     "name": "stdout",
     "output_type": "stream",
     "text": [
      "MoviePy - Done.\n",
      "Moviepy - Writing video ../renders/7286cff1-6170-4d5e-942c-7471234a911c/diffie_hellman_key_exchange.mp4\n",
      "\n"
     ]
    },
    {
     "name": "stderr",
     "output_type": "stream",
     "text": [
      "                                                                \r"
     ]
    },
    {
     "name": "stdout",
     "output_type": "stream",
     "text": [
      "Moviepy - Done !\n",
      "Moviepy - video ready ../renders/7286cff1-6170-4d5e-942c-7471234a911c/diffie_hellman_key_exchange.mp4\n"
     ]
    }
   ],
   "source": [
    "main(\"diffie hellman key exchange\",str(uuid.uuid4()))"
   ]
  }
 ],
 "metadata": {
  "kernelspec": {
   "display_name": "venv",
   "language": "python",
   "name": "python3"
  },
  "language_info": {
   "codemirror_mode": {
    "name": "ipython",
    "version": 3
   },
   "file_extension": ".py",
   "mimetype": "text/x-python",
   "name": "python",
   "nbconvert_exporter": "python",
   "pygments_lexer": "ipython3",
   "version": "3.8.0"
  }
 },
 "nbformat": 4,
 "nbformat_minor": 2
}
