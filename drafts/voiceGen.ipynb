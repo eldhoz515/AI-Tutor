{
 "cells": [
  {
   "cell_type": "code",
   "execution_count": 1,
   "metadata": {},
   "outputs": [],
   "source": [
    "import boto3\n",
    "import os\n",
    "import json\n",
    "\n",
    "if not os.environ.get(\"prod\"):\n",
    "    from dotenv import load_dotenv\n",
    "    load_dotenv()\n",
    "    session = boto3.Session(profile_name=\"stryvia\")\n",
    "    s3Client = session.client(\"s3\")\n",
    "    polly = session.client(\"polly\")\n",
    "else:\n",
    "    s3Client = boto3.client(\"s3\")\n",
    "    polly = boto3.client(\"polly\")\n",
    "\n",
    "\n",
    "def saveToS3(body, path):\n",
    "    response = s3Client.put_object(\n",
    "        Body=body,\n",
    "        Bucket=\"ai-tutor-s3\",\n",
    "        Key=path,\n",
    "    )\n",
    "\n",
    "\n",
    "def getFromS3(path):\n",
    "    bucket = \"ai-tutor-s3\"\n",
    "    response = s3Client.get_object(Bucket=bucket, Key=path)\n",
    "    return response[\"Body\"]\n"
   ]
  },
  {
   "cell_type": "code",
   "execution_count": 2,
   "metadata": {},
   "outputs": [],
   "source": [
    "import io"
   ]
  },
  {
   "cell_type": "code",
   "execution_count": 3,
   "metadata": {},
   "outputs": [],
   "source": [
    "def getAudio(speech,key):\n",
    "    ssml=f\"\"\"<speak><prosody rate=\"100%\">{speech}</prosody></speak>\"\"\"\n",
    "    response = polly.synthesize_speech(\n",
    "    Engine='neural',\n",
    "    Text=ssml,\n",
    "    OutputFormat=\"mp3\",\n",
    "    VoiceId=\"Matthew\",\n",
    "    TextType=\"ssml\"\n",
    "    )\n",
    "    saveToS3(response[\"AudioStream\"].read(),f\"voices/{key}.mp3\")"
   ]
  },
  {
   "cell_type": "code",
   "execution_count": 4,
   "metadata": {},
   "outputs": [],
   "source": [
    "def getCaption(speech,key):\n",
    "    ssml=f\"\"\"<speak><prosody rate=\"100%\">{speech}</prosody></speak>\"\"\"\n",
    "    response = polly.synthesize_speech(\n",
    "    Engine='neural',\n",
    "    Text=ssml,\n",
    "    OutputFormat=\"json\",\n",
    "    VoiceId=\"Matthew\",\n",
    "    SpeechMarkTypes=[\"word\",\"sentence\"],\n",
    "    TextType=\"ssml\"\n",
    "    )\n",
    "    saveToS3(response[\"AudioStream\"].read(),f\"speech_marks/{key}.jsonl\")"
   ]
  },
  {
   "cell_type": "code",
   "execution_count": 5,
   "metadata": {},
   "outputs": [],
   "source": [
    "def getSpeech(key):\n",
    "    buffer=getFromS3(f\"sentences/{key}.json\")\n",
    "    with io.BytesIO(buffer.read()) as file:\n",
    "        return json.load(file)"
   ]
  },
  {
   "cell_type": "code",
   "execution_count": 6,
   "metadata": {},
   "outputs": [],
   "source": [
    "def main(key=os.environ.get(\"key\")):\n",
    "    speech=getSpeech(key)\n",
    "    getAudio(speech,key)\n",
    "    getCaption(speech,key)"
   ]
  },
  {
   "cell_type": "code",
   "execution_count": 7,
   "metadata": {},
   "outputs": [],
   "source": [
    "def lambda_handler(event, context):\n",
    "    try:\n",
    "        y=json.loads(event[\"body\"])\n",
    "    except:\n",
    "        y=event\n",
    "    key=y[\"key\"]\n",
    "    main(key)\n",
    "    return {\n",
    "        'statusCode': 200,\n",
    "    }"
   ]
  },
  {
   "cell_type": "code",
   "execution_count": null,
   "metadata": {},
   "outputs": [],
   "source": [
    "main()"
   ]
  }
 ],
 "metadata": {
  "kernelspec": {
   "display_name": "venv",
   "language": "python",
   "name": "python3"
  },
  "language_info": {
   "codemirror_mode": {
    "name": "ipython",
    "version": 3
   },
   "file_extension": ".py",
   "mimetype": "text/x-python",
   "name": "python",
   "nbconvert_exporter": "python",
   "pygments_lexer": "ipython3",
   "version": "3.8.0"
  }
 },
 "nbformat": 4,
 "nbformat_minor": 2
}
