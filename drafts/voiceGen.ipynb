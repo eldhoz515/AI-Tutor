{
 "cells": [
  {
   "cell_type": "code",
   "execution_count": 1,
   "metadata": {},
   "outputs": [],
   "source": [
    "import boto3\n",
    "session=boto3.Session(profile_name='stryvia')\n",
    "polly = session.client(\"polly\")\n",
    "s3_client=session.client(\"s3\")"
   ]
  },
  {
   "cell_type": "code",
   "execution_count": 2,
   "metadata": {},
   "outputs": [],
   "source": [
    "def saveToS3(buffer,path):\n",
    "    response = s3_client.put_object(\n",
    "        Body=buffer,\n",
    "        Bucket='ai-tutor-s3',\n",
    "        Key=path,\n",
    "    )"
   ]
  },
  {
   "cell_type": "code",
   "execution_count": 3,
   "metadata": {},
   "outputs": [],
   "source": [
    "def getAudio(speech,key):\n",
    "    ssml=f\"\"\"<speak><prosody rate=\"120%\">{speech}</prosody></speak>\"\"\"\n",
    "    response = polly.synthesize_speech(\n",
    "    Engine='neural',\n",
    "    Text=ssml,\n",
    "    OutputFormat=\"mp3\",\n",
    "    VoiceId=\"Matthew\",\n",
    "    TextType=\"ssml\"\n",
    "    )\n",
    "    saveToS3(buffer=response[\"AudioStream\"].read(),path=f\"voices/{key}.mp3\")"
   ]
  },
  {
   "cell_type": "code",
   "execution_count": 4,
   "metadata": {},
   "outputs": [],
   "source": [
    "def getCaption(speech,key):\n",
    "    ssml=f\"\"\"<speak><prosody rate=\"120%\">{speech}</prosody></speak>\"\"\"\n",
    "    response = polly.synthesize_speech(\n",
    "    Engine='neural',\n",
    "    Text=ssml,\n",
    "    OutputFormat=\"json\",\n",
    "    VoiceId=\"Matthew\",\n",
    "    SpeechMarkTypes=[\"word\",\"sentence\"],\n",
    "    TextType=\"ssml\"\n",
    "    )\n",
    "    saveToS3(buffer=response[\"AudioStream\"].read(),path=f\"speech_marks/{key}.jsonl\")"
   ]
  },
  {
   "cell_type": "code",
   "execution_count": 5,
   "metadata": {},
   "outputs": [],
   "source": [
    "speech=\"hey guys. What's up?\"\n",
    "key=\"test1\""
   ]
  },
  {
   "cell_type": "code",
   "execution_count": 19,
   "metadata": {},
   "outputs": [],
   "source": [
    "getAudio(speech,key)\n"
   ]
  },
  {
   "cell_type": "code",
   "execution_count": 6,
   "metadata": {},
   "outputs": [],
   "source": [
    "getCaption(speech,key)"
   ]
  }
 ],
 "metadata": {
  "kernelspec": {
   "display_name": "venv",
   "language": "python",
   "name": "python3"
  },
  "language_info": {
   "codemirror_mode": {
    "name": "ipython",
    "version": 3
   },
   "file_extension": ".py",
   "mimetype": "text/x-python",
   "name": "python",
   "nbconvert_exporter": "python",
   "pygments_lexer": "ipython3",
   "version": "3.8.0"
  }
 },
 "nbformat": 4,
 "nbformat_minor": 2
}
