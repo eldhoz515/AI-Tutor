{
 "cells": [
  {
   "cell_type": "code",
   "execution_count": 39,
   "metadata": {},
   "outputs": [],
   "source": [
    "from dotenv import load_dotenv\n",
    "load_dotenv()\n",
    "import boto3, json, os\n",
    "session=boto3.Session(profile_name='stryvia')\n",
    "polly = session.client(\"polly\")\n",
    "s3_client=session.client(\"s3\")"
   ]
  },
  {
   "cell_type": "code",
   "execution_count": 40,
   "metadata": {},
   "outputs": [],
   "source": [
    "def saveToS3(buffer,path):\n",
    "    response = s3_client.put_object(\n",
    "        Body=buffer,\n",
    "        Bucket='ai-tutor-s3',\n",
    "        Key=path,\n",
    "    )"
   ]
  },
  {
   "cell_type": "code",
   "execution_count": 41,
   "metadata": {},
   "outputs": [],
   "source": [
    "def getAudio(speech,key):\n",
    "    ssml=f\"\"\"<speak><prosody rate=\"120%\">{speech}</prosody></speak>\"\"\"\n",
    "    response = polly.synthesize_speech(\n",
    "    Engine='neural',\n",
    "    Text=ssml,\n",
    "    OutputFormat=\"mp3\",\n",
    "    VoiceId=\"Matthew\",\n",
    "    TextType=\"ssml\"\n",
    "    )\n",
    "    saveToS3(buffer=response[\"AudioStream\"].read(),path=f\"voices/{key}.mp3\")"
   ]
  },
  {
   "cell_type": "code",
   "execution_count": 42,
   "metadata": {},
   "outputs": [],
   "source": [
    "def getCaption(speech,key):\n",
    "    ssml=f\"\"\"<speak><prosody rate=\"120%\">{speech}</prosody></speak>\"\"\"\n",
    "    response = polly.synthesize_speech(\n",
    "    Engine='neural',\n",
    "    Text=ssml,\n",
    "    OutputFormat=\"json\",\n",
    "    VoiceId=\"Matthew\",\n",
    "    SpeechMarkTypes=[\"word\",\"sentence\"],\n",
    "    TextType=\"ssml\"\n",
    "    )\n",
    "    saveToS3(buffer=response[\"AudioStream\"].read(),path=f\"speech_marks/{key}.jsonl\")"
   ]
  },
  {
   "cell_type": "code",
   "execution_count": 43,
   "metadata": {},
   "outputs": [],
   "source": [
    "def saveToLocal(key):\n",
    "    s3_client.download_file(\"ai-tutor-s3\",f\"speech_marks/{key}.jsonl\",f\"../sample_data/{key}.jsonl\")\n",
    "    s3_client.download_file(\"ai-tutor-s3\",f\"voices/{key}.mp3\",f\"../sample_data/{key}.mp3\")"
   ]
  },
  {
   "cell_type": "code",
   "execution_count": 44,
   "metadata": {},
   "outputs": [],
   "source": [
    "with open(f\"../sample_data/{os.environ.get('sentencesKey')}.json\",'r') as fp:\n",
    "    speech=json.load(fp)\n",
    "key=os.environ.get(\"testKey\")"
   ]
  },
  {
   "cell_type": "code",
   "execution_count": 45,
   "metadata": {},
   "outputs": [],
   "source": [
    "getAudio(speech,key)\n"
   ]
  },
  {
   "cell_type": "code",
   "execution_count": null,
   "metadata": {},
   "outputs": [],
   "source": [
    "getCaption(speech,key)"
   ]
  },
  {
   "cell_type": "code",
   "execution_count": null,
   "metadata": {},
   "outputs": [],
   "source": [
    "saveToLocal(key)"
   ]
  }
 ],
 "metadata": {
  "kernelspec": {
   "display_name": "venv",
   "language": "python",
   "name": "python3"
  },
  "language_info": {
   "codemirror_mode": {
    "name": "ipython",
    "version": 3
   },
   "file_extension": ".py",
   "mimetype": "text/x-python",
   "name": "python",
   "nbconvert_exporter": "python",
   "pygments_lexer": "ipython3",
   "version": "3.8.0"
  }
 },
 "nbformat": 4,
 "nbformat_minor": 2
}
