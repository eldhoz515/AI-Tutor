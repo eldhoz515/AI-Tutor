{
 "cells": [
  {
   "cell_type": "code",
   "execution_count": 24,
   "metadata": {},
   "outputs": [],
   "source": [
    "import boto3\n",
    "import os\n",
    "import json, io, time\n",
    "\n",
    "session = boto3.Session(profile_name=\"stryvia\")\n",
    "s3Client = session.client(\"s3\")\n",
    "from dotenv import load_dotenv\n",
    "\n",
    "load_dotenv()\n",
    "\n",
    "\n",
    "def saveToS3(body, path):\n",
    "    response = s3Client.put_object(\n",
    "        Body=body,\n",
    "        Bucket=\"ai-tutor-s3\",\n",
    "        Key=path,\n",
    "    )\n",
    "\n",
    "\n",
    "def getFromS3(path):\n",
    "    bucket = \"ai-tutor-s3\"\n",
    "    response = s3Client.get_object(Bucket=bucket, Key=path)\n",
    "    return response[\"Body\"]"
   ]
  },
  {
   "cell_type": "code",
   "execution_count": 25,
   "metadata": {},
   "outputs": [],
   "source": [
    "def getRenderIds(key):\n",
    "    buffer=getFromS3(f\"renderIds/{key}.json\")\n",
    "    with io.BytesIO(buffer.read()) as file:\n",
    "        return json.load(file)"
   ]
  },
  {
   "cell_type": "code",
   "execution_count": 26,
   "metadata": {},
   "outputs": [],
   "source": [
    "def isThereError(renderId):\n",
    "    response = s3Client.list_objects(\n",
    "        Bucket=os.environ.get(\"remotionBucket\"), Prefix=f\"renders/{renderId}/errors\"\n",
    "    )\n",
    "    return len(response.get(\"Contents\", [])) > 0"
   ]
  },
  {
   "cell_type": "code",
   "execution_count": 27,
   "metadata": {},
   "outputs": [],
   "source": [
    "def downloadVideo(i, key, renderId):\n",
    "    try:\n",
    "        if not os.path.exists(f\"../renders/{key}\"):\n",
    "            os.mkdir(f\"../renders/{key}\")\n",
    "        s3Client.download_file(\n",
    "            os.environ.get(\"remotionBucket\"),\n",
    "            f\"renders/{renderId}/out.mp4\",\n",
    "            f\"../renders/{key}/{i}.mp4\",\n",
    "        )\n",
    "    except Exception as e:\n",
    "        print(e, renderId)\n",
    "        if isThereError(renderId):\n",
    "            print(\"Fatal error\")\n",
    "            return\n",
    "        time.sleep(20)\n",
    "        downloadVideo(i, key, renderId)"
   ]
  },
  {
   "cell_type": "code",
   "execution_count": 28,
   "metadata": {},
   "outputs": [],
   "source": [
    "def main(key=os.environ.get(\"key\")):\n",
    "    renderIds = getRenderIds(key)\n",
    "    for i,renderId in enumerate(renderIds):\n",
    "        print(f\"Downloading {i+1}/{len(renderIds)}\")\n",
    "        downloadVideo(i,key,renderId)"
   ]
  },
  {
   "cell_type": "code",
   "execution_count": 29,
   "metadata": {},
   "outputs": [
    {
     "name": "stdout",
     "output_type": "stream",
     "text": [
      "Downloading 0/25\n",
      "Downloading 1/25\n",
      "Downloading 2/25\n",
      "Downloading 3/25\n",
      "Downloading 4/25\n",
      "Downloading 5/25\n",
      "Downloading 6/25\n",
      "Downloading 7/25\n",
      "Downloading 8/25\n",
      "Downloading 9/25\n",
      "Downloading 10/25\n",
      "Downloading 11/25\n",
      "Downloading 12/25\n",
      "Downloading 13/25\n",
      "Downloading 14/25\n",
      "Downloading 15/25\n",
      "Downloading 16/25\n",
      "Downloading 17/25\n",
      "Downloading 18/25\n",
      "Downloading 19/25\n",
      "Downloading 20/25\n",
      "Downloading 21/25\n",
      "Downloading 22/25\n",
      "Downloading 23/25\n",
      "Downloading 24/25\n",
      "An error occurred (404) when calling the HeadObject operation: Not Found l8bb564io1\n",
      "Fatal error\n"
     ]
    }
   ],
   "source": [
    "main()"
   ]
  }
 ],
 "metadata": {
  "kernelspec": {
   "display_name": "venv",
   "language": "python",
   "name": "python3"
  },
  "language_info": {
   "codemirror_mode": {
    "name": "ipython",
    "version": 3
   },
   "file_extension": ".py",
   "mimetype": "text/x-python",
   "name": "python",
   "nbconvert_exporter": "python",
   "pygments_lexer": "ipython3",
   "version": "3.8.0"
  }
 },
 "nbformat": 4,
 "nbformat_minor": 2
}
