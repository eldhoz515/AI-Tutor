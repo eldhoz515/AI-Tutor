{
 "cells": [
  {
   "cell_type": "code",
   "execution_count": 7,
   "metadata": {},
   "outputs": [],
   "source": [
    "fileName=\"fineTunePhase2New.jsonl\"\n",
    "suffix=\"phase2\"\n",
    "model=\"ft:gpt-3.5-turbo-1106:personal:phase2:8prppVS9\"\n",
    "# model=\"gpt-3.5-turbo-1106\""
   ]
  },
  {
   "cell_type": "code",
   "execution_count": 8,
   "metadata": {},
   "outputs": [],
   "source": [
    "from dotenv import load_dotenv\n",
    "from openai import OpenAI\n",
    "import os\n",
    "\n",
    "load_dotenv()\n",
    "\n",
    "client = OpenAI(\n",
    "    api_key=os.environ.get(\"openAIKey\"),\n",
    ")"
   ]
  },
  {
   "cell_type": "code",
   "execution_count": 9,
   "metadata": {},
   "outputs": [
    {
     "data": {
      "text/plain": [
       "FineTuningJob(id='ftjob-SP121VHdRenK5kk9ewph5GQn', created_at=1707372615, error=None, fine_tuned_model=None, finished_at=None, hyperparameters=Hyperparameters(n_epochs=10, batch_size='auto', learning_rate_multiplier='auto'), model='ft:gpt-3.5-turbo-1106:personal:phase2:8prppVS9', object='fine_tuning.job', organization_id='org-fixK8VbLtu2PmzMB2flFeR4o', result_files=[], status='validating_files', trained_tokens=None, training_file='file-hh2xspbXAW8HyGkdwTGNPki9', validation_file=None)"
      ]
     },
     "execution_count": 9,
     "metadata": {},
     "output_type": "execute_result"
    }
   ],
   "source": [
    "res = client.files.create(file=open(fileName, \"rb\"), purpose=\"fine-tune\")\n",
    "trainingDataId = res.id\n",
    "client.fine_tuning.jobs.create(\n",
    "    model=model,\n",
    "    training_file=trainingDataId,\n",
    "    suffix=suffix,\n",
    "    hyperparameters={\"n_epochs\":10}\n",
    ")"
   ]
  }
 ],
 "metadata": {
  "kernelspec": {
   "display_name": "venv",
   "language": "python",
   "name": "python3"
  },
  "language_info": {
   "codemirror_mode": {
    "name": "ipython",
    "version": 3
   },
   "file_extension": ".py",
   "mimetype": "text/x-python",
   "name": "python",
   "nbconvert_exporter": "python",
   "pygments_lexer": "ipython3",
   "version": "3.8.0"
  }
 },
 "nbformat": 4,
 "nbformat_minor": 2
}
