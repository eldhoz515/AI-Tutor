{
 "cells": [
  {
   "cell_type": "code",
   "execution_count": 2,
   "metadata": {},
   "outputs": [],
   "source": [
    "import jsonlines\n",
    "\n",
    "# Open the JSONL file for reading\n",
    "with jsonlines.open('fineTunePhase2.jsonl') as reader:\n",
    "    with jsonlines.open('fineTunePhase3.jsonl','w') as writer:\n",
    "        # Iterate through each line in the JSONL file\n",
    "        for obj in reader:\n",
    "            example=obj['messages']\n",
    "            for index,sentence in enumerate(example[1]['content'].split('.')):\n",
    "                try:\n",
    "                    output={'messages':[]}\n",
    "                    output['messages'].append({'role': 'system', 'content': ''})\n",
    "                    output['messages'].append({'role':'user','content':f\"{sentence}.\"})\n",
    "                    output['messages'].append({'role':'assistant','content':f\"{example[2]['content'].split('.')[index]}.\"})\n",
    "                    writer.write(output)\n",
    "                except:\n",
    "                    continue\n",
    "            \n",
    "\n"
   ]
  },
  {
   "cell_type": "code",
   "execution_count": 10,
   "metadata": {},
   "outputs": [
    {
     "name": "stdout",
     "output_type": "stream",
     "text": [
      "[\"Let's imagine a computer as a sophisticated office with a desk, a diligent worker, and a filing system.\", \"Central Processing Unit: The CPU is like the worker in the office.\", \"This worker is incredibly fast and can perform complex tasks.\", \"Just as the worker processes information, the CPU processes instructions given to it by programs.\", \"Memory: The desk in the office represents the computer's memory (RAM).\", \"This is where the worker (CPU) places the information and data needed to perform tasks.\", \"The larger the desk, the more information the worker can access quickly.\", \"Storage: The filing cabinet in the office is like the computer's storage (hard drive or SSD).\", \"It stores all the data and programs even when the computer is turned off.\", \"This is where the worker goes to get information that is not immediately needed.\", \"Input Devices: The keyboard and mouse are like the communication tools the worker uses to interact with the office.\", \"They are the input devices that allow you to give instructions to the computer.\", \"Output Devices: The monitor is like a results board in the office.\", \"It displays the output of the worker's tasks, allowing you to see the results of your instructions.\", \"Operating System: The operating system is like the manager of the office.\", \"It manages resources, schedules tasks, and ensures that everything runs smoothly.\", \"It tells the worker (CPU) what tasks to prioritize and coordinates communication between different parts of the office.\", \"Programs and Applications: Programs and applications are like the work assignments given to the worker.\", \"Each program is a set of instructions that the worker follows to accomplish a specific task.\", \"Bus System: The bus system inside the computer is like the communication network within the office.\", \"It allows different parts of the computer (CPU, memory, storage) to exchange information.\"]\n"
     ]
    }
   ],
   "source": [
    "import jsonlines,json\n",
    "sentences=[]\n",
    "with jsonlines.open('test1.jsonl') as data:\n",
    "    for obj in data:\n",
    "        if obj['type']=='sentence':\n",
    "            sentences.append(obj['value'])\n",
    "print(json.dumps(sentences))"
   ]
  },
  {
   "cell_type": "code",
   "execution_count": null,
   "metadata": {},
   "outputs": [],
   "source": []
  }
 ],
 "metadata": {
  "kernelspec": {
   "display_name": "venv",
   "language": "python",
   "name": "python3"
  },
  "language_info": {
   "codemirror_mode": {
    "name": "ipython",
    "version": 3
   },
   "file_extension": ".py",
   "mimetype": "text/x-python",
   "name": "python",
   "nbconvert_exporter": "python",
   "pygments_lexer": "ipython3",
   "version": "3.8.0"
  }
 },
 "nbformat": 4,
 "nbformat_minor": 2
}
