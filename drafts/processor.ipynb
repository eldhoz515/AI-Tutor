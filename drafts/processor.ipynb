{
 "cells": [
  {
   "cell_type": "code",
   "execution_count": 1,
   "metadata": {},
   "outputs": [],
   "source": [
    "import boto3\n",
    "import os\n",
    "import json\n",
    "\n",
    "if not os.environ.get(\"prod\"):\n",
    "    session = boto3.Session(profile_name=\"stryvia\")\n",
    "    s3Client = session.client(\"s3\")\n",
    "    from dotenv import load_dotenv\n",
    "    load_dotenv()\n",
    "else:\n",
    "    s3Client = boto3.client(\"s3\")\n",
    "\n",
    "\n",
    "def saveToS3(body, path):\n",
    "    response = s3Client.put_object(\n",
    "        Body=body,\n",
    "        Bucket=\"ai-tutor-s3\",\n",
    "        Key=path,\n",
    "    )\n",
    "\n",
    "\n",
    "def getFromS3(path):\n",
    "    bucket = \"ai-tutor-s3\"\n",
    "    response = s3Client.get_object(Bucket=bucket, Key=path)\n",
    "    return response[\"Body\"]\n"
   ]
  },
  {
   "cell_type": "code",
   "execution_count": 2,
   "metadata": {},
   "outputs": [],
   "source": [
    "import requests, os, re, threading, jsonlines, json, io, math\n",
    "from collections import defaultdict\n",
    "import time\n",
    "\n",
    "splitSymbols = [\"=\", \"+\", \"&\", \"->\"]"
   ]
  },
  {
   "cell_type": "code",
   "execution_count": 3,
   "metadata": {},
   "outputs": [],
   "source": [
    "renderIds=dict()\n",
    "videos=dict()\n",
    "images=dict()\n",
    "sampleProps=[]"
   ]
  },
  {
   "cell_type": "code",
   "execution_count": 4,
   "metadata": {},
   "outputs": [],
   "source": [
    "def getAssetUrl(query):\n",
    "    # return os.environ.get(\"blackVideoUrl\")\n",
    "    url = f\"https://api.pexels.com/videos/search?query={query}&per_page=1&size=small&orientation=landscape\"\n",
    "    headers = {\"Authorization\": os.environ.get(\"pexelsKey\")}\n",
    "    try:\n",
    "        response = requests.get(url=url, headers=headers)\n",
    "        data=response.json()\n",
    "        return data['videos'][0]['video_files'][0]['link']\n",
    "    except Exception as e:\n",
    "        print(e)\n",
    "        return os.environ.get(\"blackVideoUrl\")"
   ]
  },
  {
   "cell_type": "code",
   "execution_count": 5,
   "metadata": {},
   "outputs": [],
   "source": [
    "def getGoogleImage(query):\n",
    "    # return os.environ.get(\"blackImageUrl\")\n",
    "    try:\n",
    "        response=requests.post(os.environ.get(\"imageScraper\"),json=dict(query=query))\n",
    "        return response.json()\n",
    "    except Exception as e:\n",
    "        print(e)\n",
    "        return os.environ.get(\"blackImageUrl\")\n"
   ]
  },
  {
   "cell_type": "code",
   "execution_count": 6,
   "metadata": {},
   "outputs": [],
   "source": [
    "def cleanExpression(expression):\n",
    "    return expression.replace('.','').replace('(','').replace(')','').strip()"
   ]
  },
  {
   "cell_type": "code",
   "execution_count": 7,
   "metadata": {},
   "outputs": [],
   "source": [
    "def processExpression(i, expression,fakeProcess=False):\n",
    "    try:\n",
    "        format = {}\n",
    "\n",
    "        for symbol in splitSymbols:\n",
    "            if symbol in expression:\n",
    "                format[\"operation\"] = symbol\n",
    "                format[\"content\"] = []\n",
    "                for part in expression.split(symbol):\n",
    "                    if len(part):\n",
    "                        format[\"content\"].append(processExpression(i, part, fakeProcess))\n",
    "                return format\n",
    "\n",
    "        if \"\\u201c\" in expression:\n",
    "            format[\"operation\"] = \"verb\"\n",
    "            format[\"content\"] = []\n",
    "            pattern = r\"\\u201c(.*?)\\u201d\"\n",
    "            withoutVerb = re.sub(pattern, \"$$\", expression)\n",
    "            format[\"verb\"] = cleanExpression(re.findall(pattern, expression)[0])\n",
    "            for part in withoutVerb.split(\"$$\"):\n",
    "                if len(part):\n",
    "                    format[\"content\"].append(processExpression(i, part, fakeProcess))\n",
    "            return format\n",
    "        if \"'\" in expression:\n",
    "            format[\"operation\"] = \"verb\"\n",
    "            format[\"content\"] = []\n",
    "            pattern = r\"\\'(.*?)\\'\"\n",
    "            withoutVerb = re.sub(pattern, \"$$\", expression)\n",
    "            format[\"verb\"] = cleanExpression(re.findall(pattern, expression)[0])\n",
    "            for part in withoutVerb.split(\"$$\"):\n",
    "                if len(part):\n",
    "                    format[\"content\"].append(processExpression(i, part, fakeProcess))\n",
    "            return format\n",
    "\n",
    "        query = cleanExpression(expression)\n",
    "        if not len(query):\n",
    "            format[\"operation\"] = \"void\"\n",
    "            return format\n",
    "        format[\"operation\"] = \"asset\"\n",
    "        format[\"expression\"] = query\n",
    "        if fakeProcess:\n",
    "            videos[query]=\"NaN\"\n",
    "            images[query]=\"NaN\"\n",
    "        else:\n",
    "            format[\"assetUrl\"] = videos[query]\n",
    "            format[\"googleImage\"] = images[query]\n",
    "        return format\n",
    "    except Exception as e:\n",
    "        print(e)\n",
    "        return {\"operation\": \"oops\", \"expression\": expression}"
   ]
  },
  {
   "cell_type": "code",
   "execution_count": 8,
   "metadata": {},
   "outputs": [],
   "source": [
    "def render(i, props, retry=0):\n",
    "    # return i\n",
    "    if retry > 10:\n",
    "        return None\n",
    "    try:\n",
    "        response = requests.post(os.environ.get(\"rendererUrl\"), json=dict(props=props))\n",
    "        res = response.json()\n",
    "        return res[\"renderId\"]\n",
    "    except Exception as e:\n",
    "        print(e)\n",
    "        time.sleep(20)\n",
    "        print(f\"Retrying for {i}\")\n",
    "        return render(i, props, retry + 1)"
   ]
  },
  {
   "cell_type": "code",
   "execution_count": 9,
   "metadata": {},
   "outputs": [],
   "source": [
    "def worker(i, expression, speechMarks, key, fakeProcess=False):\n",
    "    props = dict()\n",
    "    props[\"speechMarks\"] = speechMarks\n",
    "    props[\"audioKey\"] = key\n",
    "    props[\"format\"] = processExpression(i, cleanExpression(expression), fakeProcess)\n",
    "    if fakeProcess:\n",
    "        return\n",
    "    sampleProps.append(dict(expression=expression, props=props))\n",
    "    renderIds[f\"{i}\"] = render(i, props)\n",
    "    props[\"renderId\"] = renderIds[f\"{i}\"]"
   ]
  },
  {
   "cell_type": "code",
   "execution_count": 10,
   "metadata": {},
   "outputs": [],
   "source": [
    "def getSpeechMarks(key):\n",
    "    buffer=getFromS3(f\"speech_marks/{key}.jsonl\")\n",
    "    data = []\n",
    "    with io.BytesIO(buffer.read()) as file:\n",
    "        with jsonlines.Reader(file) as reader:\n",
    "            for line in reader:\n",
    "                data.append(\n",
    "                    dict(time=line[\"time\"], type=line[\"type\"], value=line[\"value\"])\n",
    "                )\n",
    "    return data"
   ]
  },
  {
   "cell_type": "code",
   "execution_count": 11,
   "metadata": {},
   "outputs": [],
   "source": [
    "def getSentenceSpeechMarks(speechMarks):\n",
    "    speechMarks = speechMarks[1:]\n",
    "    speechMarksBySentence = []\n",
    "    time = 0\n",
    "    idx = 0\n",
    "    wordMarks = []\n",
    "    for obj in speechMarks:\n",
    "        if obj[\"type\"] == \"sentence\":\n",
    "            speechMarksBySentence.append(\n",
    "                dict(\n",
    "                    speechMarks=wordMarks,\n",
    "                    duration=(obj[\"time\"] - time) / 1000,\n",
    "                    start=time / 1000,\n",
    "                )\n",
    "            )\n",
    "            time = obj[\"time\"]\n",
    "            idx += 1\n",
    "            wordMarks = []\n",
    "        else:\n",
    "            wordMarks.append(dict(time=obj[\"time\"] - time, value=obj[\"value\"]))\n",
    "    speechMarksBySentence.append(\n",
    "        dict(\n",
    "            speechMarks=wordMarks,\n",
    "            duration=(wordMarks[-1][\"time\"] + 1000) / 1000,\n",
    "            start=time / 1000,\n",
    "        )\n",
    "    )\n",
    "    return speechMarksBySentence"
   ]
  },
  {
   "cell_type": "code",
   "execution_count": 12,
   "metadata": {},
   "outputs": [],
   "source": [
    "def getAsset(query):\n",
    "    videos[query] = getAssetUrl(query)\n",
    "    images[query] = getGoogleImage(query)"
   ]
  },
  {
   "cell_type": "code",
   "execution_count": 13,
   "metadata": {},
   "outputs": [],
   "source": [
    "def fetchAssets():\n",
    "    threads = []\n",
    "    for query in list(videos.keys()):\n",
    "        t = threading.Thread(\n",
    "            target=getAsset,\n",
    "            args=(query,),\n",
    "        )\n",
    "        threads.append(t)\n",
    "        t.start()\n",
    "    for i, t in enumerate(threads):\n",
    "        print(f\"Fetching asset {i+1}/{len(threads)}\")\n",
    "        t.join()"
   ]
  },
  {
   "cell_type": "code",
   "execution_count": 14,
   "metadata": {},
   "outputs": [],
   "source": [
    "def processor(expressions, speechMarksBySentence, key, fakeProcess=False):\n",
    "    print(f\"#### {'Fake' if fakeProcess else 'Real'} processing ####\")\n",
    "    threads = []\n",
    "    for i, expression in enumerate(expressions):\n",
    "        t = threading.Thread(\n",
    "            target=worker,\n",
    "            args=(i, expression, speechMarksBySentence[i], key, fakeProcess),\n",
    "        )\n",
    "        threads.append(t)\n",
    "        t.start()\n",
    "    for i, t in enumerate(threads):\n",
    "        print(f\"Finishing worker {i+1}/{len(threads)}\")\n",
    "        t.join()"
   ]
  },
  {
   "cell_type": "code",
   "execution_count": 15,
   "metadata": {},
   "outputs": [],
   "source": [
    "def master(expressions, key):\n",
    "    speechMarks = getSpeechMarks(key)\n",
    "    speechMarksBySentence=getSentenceSpeechMarks(speechMarks)\n",
    "    processor(expressions,speechMarksBySentence,key,fakeProcess=True)\n",
    "    fetchAssets()\n",
    "    processor(expressions,speechMarksBySentence,key)\n",
    "    output = []\n",
    "    for i in range(len(expressions)):\n",
    "        output.append(renderIds[f\"{i}\"])\n",
    "    print(output)\n",
    "    return output"
   ]
  },
  {
   "cell_type": "code",
   "execution_count": 16,
   "metadata": {},
   "outputs": [],
   "source": [
    "def getExpressions(key):\n",
    "    buffer=getFromS3(f\"expressions/{key}.json\")\n",
    "    with io.BytesIO(buffer.read()) as file:\n",
    "        return json.load(file)"
   ]
  },
  {
   "cell_type": "code",
   "execution_count": 17,
   "metadata": {},
   "outputs": [],
   "source": [
    "def main(key=os.environ.get(\"key\")):\n",
    "    expressions=getExpressions(key)\n",
    "    output= master(expressions,key)\n",
    "    saveToS3(json.dumps(sampleProps),f\"props/{key}.json\")\n",
    "    saveToS3(json.dumps(output),f\"renderIds/{key}.json\")\n",
    "    return output"
   ]
  },
  {
   "cell_type": "code",
   "execution_count": 18,
   "metadata": {},
   "outputs": [],
   "source": [
    "def lambda_handler(event, context):\n",
    "    try:\n",
    "        y = json.loads(event[\"body\"])\n",
    "    except:\n",
    "        y = event\n",
    "    key = y[\"key\"]\n",
    "    output = main(key)\n",
    "    return {\"statusCode\": 200, \"body\": json.dumps(output)}"
   ]
  }
 ],
 "metadata": {
  "kernelspec": {
   "display_name": "venv",
   "language": "python",
   "name": "python3"
  },
  "language_info": {
   "codemirror_mode": {
    "name": "ipython",
    "version": 3
   },
   "file_extension": ".py",
   "mimetype": "text/x-python",
   "name": "python",
   "nbconvert_exporter": "python",
   "pygments_lexer": "ipython3",
   "version": "3.8.0"
  }
 },
 "nbformat": 4,
 "nbformat_minor": 2
}
